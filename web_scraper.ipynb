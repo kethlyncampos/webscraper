{
  "nbformat": 4,
  "nbformat_minor": 0,
  "metadata": {
    "colab": {
      "name": "web_scraper.ipynb",
      "provenance": [],
      "authorship_tag": "ABX9TyO8GuzRSlVr+ZzMeO0+duJK",
      "include_colab_link": true
    },
    "kernelspec": {
      "display_name": "Python 3",
      "name": "python3"
    },
    "language_info": {
      "name": "python"
    }
  },
  "cells": [
    {
      "cell_type": "markdown",
      "metadata": {
        "id": "view-in-github",
        "colab_type": "text"
      },
      "source": [
        "<a href=\"https://colab.research.google.com/github/kethlyncampos/webscraper/blob/main/web_scraper.ipynb\" target=\"_parent\"><img src=\"https://colab.research.google.com/assets/colab-badge.svg\" alt=\"Open In Colab\"/></a>"
      ]
    },
    {
      "cell_type": "code",
      "metadata": {
        "colab": {
          "base_uri": "https://localhost:8080/"
        },
        "id": "uoivF9x1NIjU",
        "outputId": "23f8969b-8e6c-4781-87cf-a073149291ff"
      },
      "source": [
        "!apt update\n",
        "!apt install chromium-chromedriver\n",
        "!pip install selenium"
      ],
      "execution_count": 9,
      "outputs": [
        {
          "output_type": "stream",
          "name": "stdout",
          "text": [
            "\u001b[33m\r0% [Working]\u001b[0m\r            \rHit:1 http://security.ubuntu.com/ubuntu bionic-security InRelease\n",
            "\u001b[33m\r0% [Connecting to archive.ubuntu.com (91.189.88.142)] [Connecting to cloud.r-pr\u001b[0m\r                                                                               \rHit:2 http://archive.ubuntu.com/ubuntu bionic InRelease\n",
            "\r                                                                               \rHit:3 http://ppa.launchpad.net/c2d4u.team/c2d4u4.0+/ubuntu bionic InRelease\n",
            "\u001b[33m\r0% [Connecting to cloud.r-project.org] [Waiting for headers] [Waiting for heade\u001b[0m\u001b[33m\r0% [1 InRelease gpgv 88.7 kB] [Waiting for headers] [Connecting to cloud.r-proj\u001b[0m\r                                                                               \rHit:4 http://ppa.launchpad.net/cran/libgit2/ubuntu bionic InRelease\n",
            "\u001b[33m\r0% [1 InRelease gpgv 88.7 kB] [Waiting for headers] [Connecting to cloud.r-proj\u001b[0m\r                                                                               \rHit:5 http://archive.ubuntu.com/ubuntu bionic-updates InRelease\n",
            "\u001b[33m\r0% [1 InRelease gpgv 88.7 kB] [Waiting for headers] [Connecting to cloud.r-proj\u001b[0m\r                                                                               \rHit:6 http://archive.ubuntu.com/ubuntu bionic-backports InRelease\n",
            "\u001b[33m\r0% [1 InRelease gpgv 88.7 kB] [Connecting to cloud.r-project.org] [Waiting for \u001b[0m\r                                                                               \rHit:7 http://ppa.launchpad.net/deadsnakes/ppa/ubuntu bionic InRelease\n",
            "Hit:8 http://ppa.launchpad.net/graphics-drivers/ppa/ubuntu bionic InRelease\n",
            "Hit:9 https://cloud.r-project.org/bin/linux/ubuntu bionic-cran40/ InRelease\n",
            "Ign:10 https://developer.download.nvidia.com/compute/cuda/repos/ubuntu1804/x86_64  InRelease\n",
            "Ign:11 https://developer.download.nvidia.com/compute/machine-learning/repos/ubuntu1804/x86_64  InRelease\n",
            "Hit:12 https://developer.download.nvidia.com/compute/cuda/repos/ubuntu1804/x86_64  Release\n",
            "Hit:13 https://developer.download.nvidia.com/compute/machine-learning/repos/ubuntu1804/x86_64  Release\n",
            "Reading package lists... Done\n",
            "Building dependency tree       \n",
            "Reading state information... Done\n",
            "40 packages can be upgraded. Run 'apt list --upgradable' to see them.\n",
            "Reading package lists... Done\n",
            "Building dependency tree       \n",
            "Reading state information... Done\n",
            "chromium-chromedriver is already the newest version (95.0.4638.69-0ubuntu0.18.04.1).\n",
            "0 upgraded, 0 newly installed, 0 to remove and 40 not upgraded.\n",
            "Requirement already satisfied: selenium in /usr/local/lib/python3.7/dist-packages (4.1.0)\n",
            "Requirement already satisfied: trio-websocket~=0.9 in /usr/local/lib/python3.7/dist-packages (from selenium) (0.9.2)\n",
            "Requirement already satisfied: urllib3[secure]~=1.26 in /usr/local/lib/python3.7/dist-packages (from selenium) (1.26.7)\n",
            "Requirement already satisfied: trio~=0.17 in /usr/local/lib/python3.7/dist-packages (from selenium) (0.19.0)\n",
            "Requirement already satisfied: idna in /usr/local/lib/python3.7/dist-packages (from trio~=0.17->selenium) (2.10)\n",
            "Requirement already satisfied: async-generator>=1.9 in /usr/local/lib/python3.7/dist-packages (from trio~=0.17->selenium) (1.10)\n",
            "Requirement already satisfied: outcome in /usr/local/lib/python3.7/dist-packages (from trio~=0.17->selenium) (1.1.0)\n",
            "Requirement already satisfied: attrs>=19.2.0 in /usr/local/lib/python3.7/dist-packages (from trio~=0.17->selenium) (21.2.0)\n",
            "Requirement already satisfied: sniffio in /usr/local/lib/python3.7/dist-packages (from trio~=0.17->selenium) (1.2.0)\n",
            "Requirement already satisfied: sortedcontainers in /usr/local/lib/python3.7/dist-packages (from trio~=0.17->selenium) (2.4.0)\n",
            "Requirement already satisfied: wsproto>=0.14 in /usr/local/lib/python3.7/dist-packages (from trio-websocket~=0.9->selenium) (1.0.0)\n",
            "Requirement already satisfied: certifi in /usr/local/lib/python3.7/dist-packages (from urllib3[secure]~=1.26->selenium) (2021.10.8)\n",
            "Requirement already satisfied: cryptography>=1.3.4 in /usr/local/lib/python3.7/dist-packages (from urllib3[secure]~=1.26->selenium) (36.0.0)\n",
            "Requirement already satisfied: pyOpenSSL>=0.14 in /usr/local/lib/python3.7/dist-packages (from urllib3[secure]~=1.26->selenium) (21.0.0)\n",
            "Requirement already satisfied: cffi>=1.12 in /usr/local/lib/python3.7/dist-packages (from cryptography>=1.3.4->urllib3[secure]~=1.26->selenium) (1.15.0)\n",
            "Requirement already satisfied: pycparser in /usr/local/lib/python3.7/dist-packages (from cffi>=1.12->cryptography>=1.3.4->urllib3[secure]~=1.26->selenium) (2.21)\n",
            "Requirement already satisfied: six>=1.5.2 in /usr/local/lib/python3.7/dist-packages (from pyOpenSSL>=0.14->urllib3[secure]~=1.26->selenium) (1.15.0)\n",
            "Requirement already satisfied: h11<1,>=0.9.0 in /usr/local/lib/python3.7/dist-packages (from wsproto>=0.14->trio-websocket~=0.9->selenium) (0.12.0)\n"
          ]
        }
      ]
    },
    {
      "cell_type": "code",
      "metadata": {
        "colab": {
          "base_uri": "https://localhost:8080/"
        },
        "id": "03eaf3r7gKgW",
        "outputId": "16b82e67-5604-4e5e-fb35-a55f8b8d55ff"
      },
      "source": [
        "!pip install iso8601"
      ],
      "execution_count": 10,
      "outputs": [
        {
          "output_type": "stream",
          "name": "stdout",
          "text": [
            "Requirement already satisfied: iso8601 in /usr/local/lib/python3.7/dist-packages (1.0.2)\n"
          ]
        }
      ]
    },
    {
      "cell_type": "code",
      "metadata": {
        "id": "OMAJnCDUB6HD"
      },
      "source": [
        "import sys\n",
        "import requests\n",
        "import pandas as pd\n",
        "import random\n",
        "from time import sleep\n",
        "from datetime import datetime, timedelta\n",
        "from bs4 import BeautifulSoup\n",
        "from selenium import webdriver\n",
        "import dateutil.parser\n",
        "import pytz\n",
        "import calendar\n",
        "import iso8601\n"
      ],
      "execution_count": 11,
      "outputs": []
    },
    {
      "cell_type": "code",
      "metadata": {
        "id": "QO3L-sHDhZCT"
      },
      "source": [
        "def req(url):\n",
        "  options = webdriver.ChromeOptions()\n",
        "  options.add_argument('--headless')\n",
        "  options.add_argument('--no-sandbox')\n",
        "  options.add_argument('--disable-dev-shm-usage')\n",
        "  options.add_argument(\"user-agent=Mozilla/5.0 (Windows NT 6.1; Win64; x64) AppleWebKit/537.36 (KHTML, like Gecko) Chrome/84.0.4147.125 Safari/537.36\")\n",
        "  browser = webdriver.Chrome(options=options)\n",
        "  browser.get(url)\n",
        "  lastHeight = browser.execute_script(\"return document.body.scrollHeight\")\n",
        "  while True:\n",
        "      browser.execute_script(\"window.scrollTo(0, document.body.scrollHeight);\")\n",
        "      sleep(5)\n",
        "      newHeight = browser.execute_script(\"return document.body.scrollHeight\")\n",
        "      if newHeight == lastHeight:\n",
        "          break\n",
        "      lastHeight = newHeight\n",
        "  return BeautifulSoup(browser.page_source, 'html.parser')"
      ],
      "execution_count": 12,
      "outputs": []
    },
    {
      "cell_type": "code",
      "metadata": {
        "id": "L6u7-BIWumf_"
      },
      "source": [
        "page1 = req('https://br.yahoo.com/topics/bolsa-de-valores/')"
      ],
      "execution_count": 13,
      "outputs": []
    },
    {
      "cell_type": "code",
      "metadata": {
        "id": "_eWfkHXRhXae"
      },
      "source": [
        "links1 = page1.find_all('a', attrs={'class':'js-content-viewer','class':'rapidnofollow'})"
      ],
      "execution_count": 14,
      "outputs": []
    },
    {
      "cell_type": "code",
      "metadata": {
        "id": "u_1038r9DLOs"
      },
      "source": [
        "lista_url = []\n",
        "for link in links1:\n",
        "  aux = link['href']\n",
        "  if 'http' not in aux:\n",
        "    aux = 'https://br.yahoo.com' + aux\n",
        "  if 'noticias-do-dia-' not in aux:\n",
        "    lista_url.append(aux)"
      ],
      "execution_count": 15,
      "outputs": []
    },
    {
      "cell_type": "code",
      "metadata": {
        "id": "o-fGUwK2o6wM"
      },
      "source": [
        "title, description, author, date, publication_time, collect_time = \"\", \"\", \"\", \"\", \"\", \"\"\n",
        "\n",
        "for i in lista_url:\n",
        "  print(i)\n",
        "  temp = req(i)\n",
        "  title = temp.find('h1', attrs={'data-test-locator':'headline'}).text\n",
        "  author = temp.find('span', attrs={'class':'caas-author-byline-collapse'}).text\n",
        "  date = temp.find('time')['datetime']\n",
        "  break"
      ],
      "execution_count": null,
      "outputs": []
    },
    {
      "cell_type": "code",
      "metadata": {
        "colab": {
          "base_uri": "https://localhost:8080/"
        },
        "id": "qUFI-a-82FrE",
        "outputId": "7e9b0b07-7319-41af-8ddc-3b1aa91be7d1"
      },
      "source": [
        "page1"
      ],
      "execution_count": 17,
      "outputs": [
        {
          "output_type": "execute_result",
          "data": {
            "text/plain": [
              "<html class=\"ltr yahoo-page height100\" dir=\"ltr\"><head>\n",
              "<title>Yahoo is part of the Yahoo family of brands</title>\n",
              "<meta content=\"IE=edge,chrome=1\" http-equiv=\"X-UA-Compatible\"/>\n",
              "<meta content=\"width=device-width, initial-scale=1, maximum-scale=1, minimum-scale=1, user-scalable=no, viewport-fit=cover\" name=\"viewport\"/>\n",
              "<link href=\"https://s.yimg.com/oa/build/css/site-ltr-d43e0c55.css\" rel=\"stylesheet\"/>\n",
              "<link href=\"https://s.yimg.com/oa/build/images/favicons/yahoo.png\" rel=\"icon\" type=\"image/png\"/>\n",
              "<style nonce=\"\">/*! Copyright 2017 Yahoo Holdings, Inc. All rights reserved. */\n",
              "template{display:none}._yb_7b6bj{font-family:'Helvetica Neue',Helvetica,Tahoma,Geneva,Arial,sans-serif;font-weight:400;font-stretch:normal;direction:ltr;display:block;box-sizing:border-box;text-align:start;-webkit-font-smoothing:antialiased;z-index:1000;overflow-anchor:none}.ybar-ytheme-oneyahoo._yb_7b6bj,.ybar-ytheme-fuji2._yb_7b6bj{font-family:'YahooSans VF',YahooSans,'Helvetica Neue',Helvetica,Tahoma,Geneva,Arial,sans-serif}#ybar._yb_11woc{margin:0 auto}._yb_7b6bj ._yb_1ukfu{display:flex;flex-direction:column}.ybar-dark .ybar-property-homepage._yb_1fqhv ._yb_1ukfu{background-image:linear-gradient(to top right,#7282fb,#755bf9,#7934f7);background-color:#7934f7}.ybar-light .ybar-property-homepage._yb_1fqhv ._yb_1ukfu{background-color:#fff}._yb_uy89q{display:flex;justify-content:center}._yb_1xzb4{display:flex;justify-content:flex-start;align-items:center;width:100%;min-width:0;max-width:1920px;box-sizing:border-box;transition:margin .2s ease-out,opacity .15s linear .2s;opacity:1}._yb_139rq ._yb_1xzb4,._yb_1pgsj ._yb_1xzb4{min-width:0;max-width:1301px}.ybar-ytheme-oneyahoo ._yb_1xzb4,.ybar-ytheme-fuji2 ._yb_1xzb4{max-width:1340px;padding:0 20px;transition:margin .2s ease-out,opacity .15s linear .2s,padding .4s}.ybar-ytheme-oneyahoo ._yb_1xzb4{max-width:1344px}.ybar-property-sports._yb_1ez3v #ybar-navigation{max-width:100%;padding:0}.ybar-ytheme-fuji2.ybar-homepage-wide-layout ._yb_1xzb4,.ybar-ytheme-fuji2.ybar-homepage-wide-layout ._yb_1akaj ._yb_1xzb4{padding:0;margin:0}.ybar-ytheme-fuji2.ybar-homepage-wide-layout ._yb_uy89q._yb_2140w,.ybar-ytheme-fuji2.ybar-homepage-wide-layout ._yb_uy89q._yb_1akaj{padding:0 20px;transition:padding .4s}@media screen and (min-width:1020px){.ybar-ytheme-oneyahoo ._yb_1xzb4,.ybar-ytheme-fuji2 ._yb_1xzb4{padding:0 40px}.ybar-ytheme-fuji2.ybar-homepage-wide-layout ._yb_uy89q._yb_2140w,.ybar-ytheme-fuji2.ybar-homepage-wide-layout ._yb_uy89q._yb_1akaj{padding:0 40px}}.ybar-ytheme-fuji2._yb_14v1h ._yb_1xzb4{padding:0;max-width:100%}.ybar-ytheme-fuji2.ybar-homepage-wide-layout ._yb_1xzb4{min-width:0;max-width:1376px}.ybar-ytheme-fuji2.ybar-homepage-wide-layout.ybar-homepage-1264-layout ._yb_1xzb4{max-width:1264px}._yb_5zbzk ._yb_1xzb4,.ybar-ytheme-fuji2._yb_139rq ._yb_5zbzk ._yb_1xzb4,.ybar-ytheme-fuji2._yb_1pgsj ._yb_5zbzk ._yb_1xzb4{padding:0;position:relative;display:none}.ybar-ytheme-oneyahoo ._yb_5zbzk ._yb_1xzb4,.ybar-ytheme-fuji2 ._yb_5zbzk ._yb_1xzb4,.ybar-ytheme-fuji2.ybar-homepage-topnav._yb_139rq ._yb_5zbzk ._yb_1xzb4,.ybar-ytheme-fuji2.ybar-homepage-topnav._yb_1pgsj ._yb_5zbzk ._yb_1xzb4{display:flex}.ybar-ytheme-fuji2.ybar-property-mail.fuji2-dialpad ._yb_5zbzk{display:none}._yb_1qfsb{background:#232a31;flex:1}.ybar-dark ._yb_1qfsb{background:#464e56}.ybar-ytheme-oneyahoo ._yb_1qfsb,.ybar-dark .ybar-ytheme-oneyahoo ._yb_1qfsb{background-color:#7e1fff}.ybar-ytheme-oneyahoo ._yb_5zbzk,.ybar-ytheme-fuji2 ._yb_5zbzk{overflow:hidden}@media screen and (max-width:1340px){.ybar-ytheme-oneyahoo ._yb_5zbzk,.ybar-ytheme-fuji2 ._yb_5zbzk{width:100%;min-width:1032px}.ybar-ytheme-oneyahoo ._yb_1qfsb,.ybar-ytheme-fuji2 ._yb_1qfsb{display:none}}._yb_zbxx4{min-width:0;padding:0;height:84px}._yb_1mu5n ._yb_zbxx4,._yb_nwgl1 ._yb_zbxx4,._yb_11woc ._yb_zbxx4,._yb_p52e2 ._yb_zbxx4,._yb_1vvf3 ._yb_zbxx4,._yb_18w3n ._yb_zbxx4,._yb_1agje ._yb_zbxx4{padding:0 64px 0 50px}@media screen and (orientation:portrait){._yb_1fqhv ._yb_1s63u{display:none}}@media screen and (orientation:landscape){._yb_dkdzh{display:none}}._yb_pcnsy._yb_uy89q._yb_1c3pp{padding:0 16px;margin-bottom:8px;justify-content:center;width:auto}.ybar-hide-navigation #ybar._yb_1fqhv ._yb_pcnsy._yb_uy89q._yb_1c3pp,._yb_139rq ._yb_pcnsy._yb_uy89q._yb_1c3pp,.ybar-property-generic ._yb_pcnsy._yb_uy89q._yb_1c3pp,.ybar-property-homepage ._yb_pcnsy._yb_uy89q._yb_1c3pp{margin-bottom:16px}._yb_1akaj ._yb_1xzb4{height:34px;padding-left:24px}._yb_1fqhv ._yb_1akaj ._yb_1xzb4{height:42px}._yb_1fqhv ._yb_1akaj._yb_1bm6s ._yb_1xzb4{height:82px}.ybar-ytheme-fuji2 ._yb_zbxx4{height:72px}._yb_139rq ._yb_zbxx4,._yb_1pgsj ._yb_zbxx4{height:80px;padding:5px 0 7px 0;box-sizing:content-box}@media screen and (orientation:portrait){.ybar-hide-navigation ._yb_1fqhv._yb_oyhez ._yb_zbxx4{margin-top:-40px;opacity:0}}.ybar-ytheme-fuji2 ._yb_1akaj ._yb_1xzb4,.ybar-ytheme-fuji2 ._yb_zbxx4{padding:0 20px;box-sizing:border-box}.ybar-ytheme-fuji2._yb_1fqhv ._yb_1akaj ._yb_1xzb4{padding:0}@media screen and (min-width:1020px){.ybar-ytheme-oneyahoo ._yb_1akaj ._yb_1xzb4,.ybar-ytheme-oneyahoo ._yb_zbxx4,.ybar-ytheme-fuji2 ._yb_1akaj ._yb_1xzb4,.ybar-ytheme-fuji2 ._yb_zbxx4{padding:0 40px}}.ybar-ytheme-fuji2._yb_14v1h ._yb_zbxx4{padding:0}.modal-open ._yb_1akaj,.ybar-hide-navigation ._yb_1akaj,._yb_1fqhv._yb_1e9gf ._yb_1akaj{overflow:hidden}.ybar-show-navigation ._yb_1fqhv._yb_1e9gf ._yb_1akaj>._yb_1xzb4,.ybar-show-navigation ._yb_1fqhv._yb_1e9gf ._yb_1akaj._yb_1bm6s>._yb_1xzb4{opacity:1;margin-top:0}.ybar-hide-navigation .ybar-sticky ._yb_1fqhv #ybar-inner-wrap{box-shadow:0 2px 4px 0 rgba(0,0,0,.08),0 0 1px 0 rgba(0,0,0,.1)}.modal-open #ybar._yb_1fqhv ._yb_1akaj>._yb_1xzb4,.ybar-hide-navigation #ybar._yb_1fqhv ._yb_1akaj>._yb_1xzb4,._yb_1fqhv._yb_1e9gf ._yb_1akaj>._yb_1xzb4{margin-top:-42px}.ybar-hide-navigation #ybar ._yb_1akaj._yb_1bm6s>._yb_1xzb4,._yb_1fqhv._yb_1e9gf ._yb_1akaj._yb_1bm6s>._yb_1xzb4{margin-top:-82px}.modal-open #ybar ._yb_1akaj>._yb_1xzb4,.ybar-hide-navigation #ybar ._yb_1akaj>._yb_1xzb4{opacity:0;margin-top:-37px}.ybar-hide-navigation #ybar ._yb_3ibza{opacity:0;margin-top:-42px}.modal-open ._yb_5zbzk>._yb_1xzb4,.ybar-hide-topnavigation ._yb_5zbzk>._yb_1xzb4{margin-top:-39px}._yb_1fqhv ._yb_zbxx4{height:56px;padding:0 16px}@media screen and (orientation:landscape) and (min-width:767px){._yb_1fqhv ._yb_zbxx4{padding:0 44px}}@media screen and (max-width:1340px){.ybar-ytheme-oneyahoo ._yb_5zbzk,.ybar-ytheme-fuji2 ._yb_5zbzk{width:100%;min-width:1032px}.ybar-ytheme-fuji2._yb_1x9ra._yb_1rjcs ._yb_5zbzk{min-width:initial}.ybar-ytheme-fuji2 ._yb_1qfsb{display:none}}@media screen and (min-width:1020px){.ybar-ytheme-fuji2 ._yb_139rq ._yb_zbxx4 ._yb_1h9wa,.ybar-ytheme-fuji2.ybar-property-homepage ._yb_zbxx4 ._yb_1h9wa{width:320px;justify-content:flex-end}}@supports (display:grid){.ybar-ytheme-oneyahoo ._yb_zbxx4,.ybar-ytheme-fuji2 ._yb_zbxx4{display:grid;grid-template-columns:[main-start] repeat(9,minmax(0,1fr)) [main-end] repeat(3,minmax(0,1fr));grid-template-rows:auto;grid-column-gap:32px}.ybar-ytheme-fuji2.ybar-property-mail ._yb_zbxx4,.ybar-ytheme-fuji2._yb_1fqhv ._yb_zbxx4{display:flex;-moz-column-gap:normal;column-gap:normal}.ybar-ytheme-oneyahoo ._yb_zbxx4>div,.ybar-ytheme-fuji2 ._yb_zbxx4>div{grid-row-start:1}.ybar-ytheme-fuji2 ._yb_1c3pp{grid-column:main;justify-self:end;width:calc(100% - 240px)}.ybar-ytheme-fuji2.ybar-homepage-wide-layout.ybar-homepage-1264-layout ._yb_1c3pp{width:calc(100% - 220px)}.ybar-ytheme-fuji2.ybar-homepage-wide-layout.ybar-homepage-1264-layout._yb_1y1gw._yb_1mhsh ._yb_1c3pp,.ybar-ytheme-fuji2.ybar-homepage-wide-layout.ybar-homepage-1264-layout._yb_gvt3c._yb_1mhsh ._yb_1c3pp,.ybar-ytheme-fuji2.ybar-homepage-wide-layout.ybar-homepage-1264-layout._yb_gvt3c._yb_1ukal ._yb_1c3pp,.ybar-ytheme-fuji2.ybar-homepage-wide-layout.ybar-homepage-1264-layout._yb_a59bt._yb_mtu8h ._yb_1c3pp,.ybar-ytheme-fuji2.ybar-homepage-wide-layout.ybar-homepage-1264-layout._yb_m4h05._yb_mtu8h ._yb_1c3pp{width:calc(100% - 240px)}.ybar-ytheme-oneyahoo ._yb_1c3pp{grid-column:3/span 6;width:100%}.ybar-ytheme-oneyahoo ._yb_zbxx4>._yb_doig1,.ybar-ytheme-fuji2 ._yb_zbxx4>._yb_doig1{grid-column-start:main-start;z-index:1}.ybar-ytheme-fuji2 ._yb_zbxx4 ._yb_1h9wa,.ybar-ytheme-fuji2.ybar-property-generic ._yb_zbxx4 ._yb_1h9wa,.ybar-ytheme-fuji2.ybar-property-homepage ._yb_zbxx4 ._yb_1h9wa{grid-column-start:main-end;grid-column-end:-1;justify-self:end;width:auto}.ybar-ytheme-oneyahoo ._yb_zbxx4 ._yb_1h9wa{grid-column:9/span 4;justify-self:end}.ybar-ytheme-fuji2 ._yb_zbxx4 ._yb_zuj17{grid-column-start:main-start}@media screen and (max-width:1019px){.ybar-ytheme-oneyahoo ._yb_zbxx4,.ybar-ytheme-fuji2 ._yb_zbxx4{grid-column-gap:20px}}@media screen and (min-width:1344px){.ybar-ytheme-oneyahoo ._yb_1c3pp{grid-column:5/span 5;margin-left:-55px}}}._yb_1mu5n ._yb_zbxx4{padding-left:54px}._yb_dwopx ._yb_zbxx4{width:1020px}._yb_nwgl1 ._yb_zbxx4{background:#6302de}._yb_nwgl1._yb_1cwbz ._yb_zbxx4{background:0 0}._yb_nwgl1._yb_1rf62 ._yb_zbxx4,._yb_nwgl1._yb_1soez ._yb_zbxx4,._yb_nwgl1._yb_1b93l ._yb_zbxx4,._yb_nwgl1._yb_1evrh ._yb_zbxx4,._yb_nwgl1._yb_9b493 ._yb_zbxx4{background:#000}._yb_nwgl1._yb_n66qj ._yb_zbxx4{background:#2b2c2f}._yb_nwgl1._yb_ghw2e ._yb_zbxx4,._yb_nwgl1._yb_eod94 ._yb_zbxx4{background:#333}._yb_nwgl1._yb_1k9sf ._yb_zbxx4{background:#feeade}._yb_nwgl1._yb_wxr80 ._yb_zbxx4{background:#2b2d32}._yb_nnllw._yb_gvs9u ._yb_zbxx4{background:#6302de}._yb_nwgl1._yb_1luta ._yb_zbxx4{background:#222}._yb_nwgl1._yb_1el9i ._yb_zbxx4{background:#0a4ea3}._yb_nwgl1._yb_1pet7 ._yb_zbxx4{background:#0a0a0a}._yb_nwgl1._yb_1tp6n ._yb_zbxx4{background:#fff}._yb_nwgl1._yb_pfacq ._yb_zbxx4{background:#1e4e9d}._yb_nwgl1._yb_1sjc0 ._yb_zbxx4{background:linear-gradient(303deg,#00d301,#36c275 50%,#00a562)}._yb_nwgl1._yb_s502c ._yb_zbxx4{background:#36465d}._yb_doig1{display:flex;width:142px;min-width:142px}._yb_1fqhv ._yb_doig1,.ybar-ytheme-fuji2._yb_1fqhv ._yb_zbxx4 ._yb_doig1{width:auto;min-width:auto}._yb_139rq ._yb_doig1,._yb_1pgsj ._yb_doig1{height:58px;width:205px;min-width:205px;margin-top:10px;margin-left:15px}._yb_14v1h ._yb_doig1{justify-content:center;min-width:192px}._yb_14v1h._yb_1rjcs ._yb_zbxx4>._yb_doig1,._yb_14v1h._yb_15sop ._yb_zbxx4>._yb_doig1,._yb_14v1h._yb_tredu ._yb_zbxx4>._yb_doig1,._yb_14v1h._yb_19yml ._yb_zbxx4>._yb_doig1{width:224px;min-width:224px}@media screen and (max-width:1024px){._yb_139rq ._yb_doig1,._yb_1pgsj ._yb_doig1{width:90px;min-width:90px;height:27px}}.ybar-ytheme-fuji2 ._yb_zbxx4 ._yb_doig1{height:auto;width:166px;min-width:166px;margin-right:20px;margin-top:0;margin-left:0;transition:min-width .4s,width .4s}.ybar-ytheme-fuji2._yb_14v1h ._yb_zbxx4 ._yb_doig1{margin-right:0}@media screen and (min-width:1020px){.ybar-ytheme-fuji2 ._yb_zbxx4 ._yb_doig1{width:220px;min-width:220px}}.ybar-ytheme-fuji2.ybar-property-mail ._yb_doig1{width:192px;min-width:192px}@media screen and (min-width:1440px){._yb_14v1h ._yb_doig1,.ybar-ytheme-fuji2._yb_14v1h ._yb_doig1{max-width:224px;width:14%}}._yb_1c3pp{display:flex;flex:1}._yb_14v1h ._yb_1c3pp{flex:initial}._yb_1c3pp #mail-search{flex:1}#ybar.ybar-searchbox-assist-fullscreen #ybar-inner-wrap{position:initial}.ybar-searchbox-assist-fullscreen._yb_1fqhv ._yb_1c3pp{position:fixed;width:100%;height:100%;left:0;top:0;padding:0;margin:0;z-index:2;background-color:#fff;display:block}@media screen and (orientation:portrait){.ybar-searchbox-assist-fullscreen._yb_1fqhv ._yb_pcnsy._yb_uy89q._yb_1c3pp{display:flex}}._yb_3ibza{margin:0 auto;padding:0 40px;width:1340px;max-width:100%;box-sizing:border-box;height:42px;display:flex;opacity:1;transition:margin .2s ease-out,opacity .15s linear .2s}._yb_lc9by{overflow:hidden}._yb_yylih{width:220px;margin-right:20px;flex-shrink:0}@media screen and (max-width:1019px){._yb_3ibza{padding:0 20px;transition:padding .4s}._yb_g3wok{width:143px;margin-left:105px;flex-shrink:0}}._yb_1h9wa{margin-left:auto;display:flex;align-items:center}._yb_14v1h ._yb_1h9wa{padding-right:32px}._yb_1pgsj ._yb_1h9wa{margin-right:48px}.ybar-ytheme-fuji2._yb_139rq ._yb_1h9wa,.ybar-ytheme-fuji2._yb_1pgsj ._yb_1h9wa{margin-right:0}._yb_1h9wa>div{margin-left:32px;white-space:nowrap}._yb_1fqhv ._yb_1h9wa>div{margin-left:20px}.ybar-ytheme-oneyahoo ._yb_1h9wa>div{margin-left:50px}@media screen and (min-width:1344px){.ybar-ytheme-oneyahoo ._yb_1h9wa ._yb_domfk{margin-left:calc(50px + 20px)}.ybar-ytheme-oneyahoo ._yb_1h9wa ._yb_bvcvx{margin-left:50px}}._yb_a59bt._yb_mtu8h ._yb_1h9wa ._yb_bvcvx{display:none}@media screen and (max-width:768px){._yb_1h9wa>div{margin-left:24px}._yb_1mu5n ._yb_zbxx4{height:54px;padding:0 24px 0 20px}._yb_nwgl1 ._yb_zbxx4{height:50px;padding:0}._yb_1mu5n ._yb_zbxx4,._yb_nwgl1 ._yb_zbxx4{justify-content:center;position:relative}._yb_1mu5n._yb_ghw2e ._yb_1h9wa,._yb_1mu5n._yb_gvs9u ._yb_1h9wa,._yb_1mu5n._yb_1soez ._yb_1h9wa,._yb_1mu5n._yb_1pet7 ._yb_1h9wa,._yb_nwgl1 ._yb_1h9wa{position:absolute;right:24px}._yb_1mu5n ._yb_doig1,._yb_nwgl1 ._yb_doig1{width:auto;min-width:auto}._yb_1rf62 ._yb_doig1{height:18px}._yb_1k9sf ._yb_doig1{height:12px}._yb_gvs9u ._yb_doig1,._yb_wxr80 ._yb_doig1{height:24px}._yb_1soez ._yb_doig1,._yb_1el9i ._yb_doig1{height:15px}._yb_1cwbz ._yb_doig1{height:25px;width:64px}._yb_1b93l ._yb_doig1{height:22px}._yb_nwgl1._yb_pfacq ._yb_doig1{height:20px}._yb_1sjc0 ._yb_doig1{height:20px}}._yb_18qgg{display:block}._yb_14v1h ._yb_uy89q{max-width:none}._yb_14v1h ._yb_zbxx4{padding:0;max-width:none}._yb_14v1h ._yb_zbxx4 ._yb_1c3pp{height:48px;margin:0;min-width:496px;padding:0;width:44%}._yb_14v1h._yb_1rjcs ._yb_zbxx4>._yb_doig1,._yb_14v1h._yb_15sop ._yb_zbxx4>._yb_doig1,._yb_14v1h._yb_tredu ._yb_zbxx4>._yb_doig1,._yb_14v1h._yb_19yml ._yb_zbxx4>._yb_doig1{width:224px;min-width:224px}._yb_14v1h ._yb_zbxx4 ._yb_1h9wa{padding-right:32px}._yb_1x9ra._yb_1rjcs ._yb_1ukfu{background:#fff}._yb_14v1h ._yb_1qfsb{display:none}.ybar-ytheme-fuji2.ybar-property-mail ._yb_11ehn{display:none}.ybar-ytheme-fuji2.ybar-property-mail.fuji2-dialpad ._yb_11ehn{display:block}.ybar-amp,.ybar-amp .ybar-row{min-width:initial;max-width:initial;padding-right:0}#ybar._yb_olrur{height:84px}#ybar.ybar-ytheme-fuji2.ybar-property-mail.fuji2-dialpad._yb_olrur{height:72px}#ybar.ybar-ytheme-fuji2._yb_olrur{height:111px}#ybar.ybar-ytheme-fuji2.ybar-property-generic._yb_olrur,#ybar.ybar-ytheme-fuji2.ybar-property-generic.ybar-homepage-topnav._yb_olrur._yb_1h80s,#ybar.ybar-ytheme-fuji2.ybar-property-generic._yb_olrur,#ybar.ybar-ytheme-fuji2.ybar-property-generic.ybar-homepage-topnav._yb_olrur._yb_1h80s{height:123px}#ybar.ybar-ytheme-fuji2._yb_1h80s{height:104px}#ybar._yb_1h80s,#ybar._yb_olrur._yb_1h80s,#ybar.ybar-ytheme-fuji2.ybar-property-homepage._yb_1h80s,#ybar.ybar-ytheme-fuji2.ybar-property-generic._yb_1h80s,#ybar.ybar-ytheme-fuji2.ybar-property-mail.fuji2-dialpad._yb_olrur._yb_1h80s,#ybar.ybar-ytheme-fuji2.ybar-property-generic._yb_olrur._yb_1h80s,#ybar.ybar-ytheme-fuji2.ybar-property-homepage._yb_olrur._yb_1h80s{height:114px}#ybar.ybar-ytheme-fuji2._yb_olrur._yb_1h80s{height:143px}#ybar.ybar-ytheme-fuji2.ybar-property-generic.ybar-show-homepage-topnavigation._yb_olrur._yb_1h80s,#ybar.ybar-ytheme-fuji2.ybar-property-homepage.ybar-show-homepage-topnavigation._yb_olrur._yb_1h80s{height:155px}#ybar.ybar-property-generic._yb_1h80s,#ybar.ybar-property-homepage._yb_1h80s{height:126px}#ybar.ybar-ytheme-fuji2.ybar-property-generic._yb_olrur._yb_i889e,#ybar.ybar-ytheme-fuji2.ybar-property-homepage.ybar-homepage-topnav._yb_olrur._yb_1h80s._yb_i889e,#ybar.ybar-ytheme-fuji2.ybar-property-generic._yb_olrur._yb_i889e,#ybar.ybar-ytheme-fuji2.ybar-property-homepage.ybar-homepage-topnav._yb_olrur._yb_1h80s._yb_i889e{height:165px}#ybar.ybar-ytheme-fuji2._yb_olrur._yb_1h80s._yb_i889e{height:185px}#ybar.ybar-ytheme-fuji2._yb_olrur._yb_1h80s._yb_i889e._yb_1x9ra._yb_1rjcs{height:203px}#ybar.ybar-ytheme-fuji2._yb_1fqhv._yb_1h80s{height:98px}.modal-open .ybar-sticky #ybar._yb_1pgsj{height:92px!important}.modal-open .ybar-sticky #ybar.ybar-ytheme-fuji2._yb_1pgsj{height:80px!important}.ybar-ytheme-oneyahoo ._yb_zbxx4{height:80px}#ybar.ybar-ytheme-oneyahoo._yb_olrur{height:116px}.ybar-ytheme-oneyahoo ._yb_zbxx4 ._yb_doig1{height:auto;margin-right:20px;margin-top:0;margin-left:40px;transition:min-width .4s,width .4s}@media screen and (max-width:1019px){.ybar-ytheme-oneyahoo ._yb_zbxx4 ._yb_doig1{margin-left:20px}}@media screen and (orientation:portrait){html.Reader-open ._yb_1c3pp{display:none}html.Reader-open ._yb_srjjw{display:inline-block}._yb_doc3i{display:inline-block}._yb_don1b{display:none}}._yb_cxzz7{display:flex}#ybar input[type=hidden]{visibility:hidden}.ybar-show-outline{outline-offset:2px;outline:3px solid #00abf0;outline:5px solid -webkit-focus-ring-color}.ybar-hide-outline{outline:0!important}\n",
              ".ybar-sticky #ybar-inner-wrap{position:fixed;z-index:20;width:100%}.ybar-page-is-scrolled .ybar-sticky #ybar-inner-wrap{box-shadow:rgba(0,0,0,.4) 0 0 10px 0}.ybar-sticky .ybar-ytheme-oneyahoo #ybar-inner-wrap,.ybar-page-is-scrolled .smartphone .ybar-ytheme-oneyahoo #ybar-inner-wrap{box-shadow:0 4px 8px 0 rgba(0,0,0,.06),0 0 1px 0 rgba(0,0,0,.04)}.smartphone .ybar-ytheme-oneyahoo #ybar-inner-wrap{box-shadow:none}\n",
              "._yb_ds5fb,._yb_1lmwy ._yb_tkv76,._yb_ky790,._yb_11duf,._yb_tkv76,._yb_unsjt,.ybar-ytheme-fuji2 ._yb_unsjt,._yb_12ldy,._yb_gr0zx,._yb_1x6sq,._yb_9efxq,._yb_ghqog,._yb_hnv5f,._yb_bnzw3,._yb_8f419,._yb_19mpo,._yb_7bmht,._yb_2ds67,._yb_ir0an,._yb_a9fl9,.ybar-ytheme-fuji2 ._yb_ky790,.ybar-ytheme-fuji2.ybar-property-homepage ._yb_ky790,._yb_vxf84,._yb_11gw4,._yb_m4fjp,._yb_1nbi2,._yb_1tb3k,._yb_1g18z,._yb_1jbu8,._yb_117qe,._yb_dxt7w,._yb_syc88,._yb_8qnu1,._yb_1vwdp,._yb_wdyu0,._yb_fqfy8,._yb_1fb1b,._yb_45e2b,._yb_1219g,._yb_105f1,._yb_21meq,._yb_8wc98,._yb_17ssw,._yb_1kjle,._yb_1nuvw,._yb_1g1wq,._yb_1jq79,._yb_1hivr,._yb_xa6f0,._yb_nkmtu,._yb_1kwai,._yb_lhyyu,._yb_qbcwm,._yb_v0n55,._yb_m1hff,._yb_1vo7y,._yb_1lwo5,._yb_15rx9,._yb_1tooy,._yb_o1jpf,._yb_unbt8,._yb_mcrhv,._yb_8pp4p,._yb_lvx00,._yb_1fqhi,._yb_1og4i,._yb_1xu52{background-image:url(https://s.yimg.com/kr/assets/spritify-sprite-dark-fd484ded-615432bc.png);background-size:32px 1713px;background-repeat:no-repeat}._yb_ds5fb,._yb_1lmwy ._yb_tkv76{background-position:0 -1582px;width:24px;height:24px}._yb_ky790,._yb_11duf,._yb_tkv76{background-position:0 -1611px;width:24px;height:24px}._yb_unsjt{background-position:0 -1524px;width:24px;height:24px}.ybar-ytheme-fuji2 ._yb_unsjt{background-position:0 -1640px;width:32px;height:32px}._yb_12ldy{background-position:0 -1553px;width:24px;height:24px}._yb_gr0zx{background-position:0 -1677px;width:32px;height:36px}.ybar-light ._yb_ds5fb,.ybar-light ._yb_1lmwy ._yb_tkv76,.ybar-light ._yb_ky790,.ybar-light ._yb_11duf,.ybar-light ._yb_tkv76,.ybar-light .ybar-property-homepage ._yb_ky790,.ybar-light ._yb_unsjt,.ybar-light .ybar-ytheme-fuji2 ._yb_unsjt,.ybar-light ._yb_12ldy,.ybar-light ._yb_gr0zx{background-image:url(https://s.yimg.com/kr/assets/spritify-sprite-light-fd484ded-e3dce7a4.png);background-size:32px 1740px;background-repeat:no-repeat}.ybar-light ._yb_ds5fb,.ybar-light ._yb_1lmwy ._yb_tkv76{background-position:0 -1609px;width:24px;height:24px}.ybar-light ._yb_ky790,.ybar-light ._yb_11duf,.ybar-light ._yb_tkv76{background-position:0 -1638px;width:24px;height:24px}.ybar-light .ybar-property-homepage ._yb_ky790{background-position:0 -1524px;width:27px;height:20px}.ybar-light ._yb_unsjt{background-position:0 -1549px;width:24px;height:26px}.ybar-light .ybar-ytheme-fuji2 ._yb_unsjt{background-position:0 -1667px;width:32px;height:32px}.ybar-light ._yb_12ldy{background-position:0 -1580px;width:24px;height:24px}.ybar-light ._yb_gr0zx{background-position:0 -1704px;width:32px;height:36px}._yb_1x6sq{background-position:0 -1188px;width:24px;height:24px}._yb_9efxq{background-position:0 -1245px;width:13px;height:12px}._yb_ghqog{background-position:0 -1291px;width:18px;height:18px}._yb_hnv5f{background-position:0 -1314px;width:18px;height:18px}._yb_bnzw3{background-position:0 -1337px;width:18px;height:16px}._yb_8f419{background-position:0 -1262px;width:24px;height:24px}._yb_19mpo{background-position:0 -1358px;width:24px;height:24px}._yb_7bmht{background-position:0 -1387px;width:12px;height:12px}._yb_2ds67{background-position:0 -1434px;width:16px;height:16px}._yb_ir0an{background-position:0 -1455px;width:18px;height:18px}._yb_a9fl9{background-position:0 -1478px;width:18px;height:18px}.ybar-ytheme-fuji2 ._yb_ky790,.ybar-ytheme-fuji2.ybar-property-homepage ._yb_ky790{background-position:0 -1404px;width:23px;height:25px}._yb_vxf84{background-position:0 -99px;width:28px;height:28px}._yb_11gw4{background-position:0 -132px;width:28px;height:28px}._yb_m4fjp,._yb_1nbi2{background-position:0 -165px;width:28px;height:28px}._yb_1tb3k,._yb_1g18z{background-position:0 -66px;width:28px;height:28px}._yb_1jbu8,._yb_117qe{background-position:0 -231px;width:28px;height:28px}._yb_dxt7w{background-position:0 -33px;width:28px;height:28px}._yb_syc88{background-position:0 -198px;width:28px;height:28px}._yb_8qnu1,._yb_1vwdp{background-position:0 0;width:28px;height:28px}._yb_wdyu0{background-position:0 -297px;width:28px;height:28px}._yb_fqfy8,._yb_1fb1b{background-position:0 -264px;width:28px;height:28px}._yb_45e2b{background-position:0 -429px;width:28px;height:28px}._yb_1219g{background-position:0 -495px;width:28px;height:28px}._yb_105f1{background-position:0 -462px;width:28px;height:28px}._yb_21meq{background-position:0 -396px;width:28px;height:28px}._yb_8wc98{background-position:0 -594px;width:28px;height:28px}._yb_17ssw{background-position:0 -528px;width:28px;height:28px}._yb_1kjle{background-position:0 -561px;width:28px;height:28px}._yb_1nuvw{background-position:0 -363px;width:28px;height:28px}._yb_1g1wq{background-position:0 -330px;width:28px;height:28px}._yb_1jq79{background-position:0 -627px;width:28px;height:28px}._yb_1hivr{background-position:0 -660px;width:28px;height:28px}._yb_xa6f0{background-position:0 -693px;width:28px;height:28px}._yb_nkmtu{background-position:0 -726px;width:28px;height:28px}._yb_1kwai{background-position:0 -759px;width:28px;height:28px}._yb_lhyyu{background-position:0 -792px;width:28px;height:28px}._yb_qbcwm{background-position:0 -825px;width:28px;height:28px}._yb_v0n55{background-position:0 -858px;width:28px;height:28px}._yb_m1hff{background-position:0 -891px;width:28px;height:28px}._yb_1vo7y{background-position:0 -924px;width:28px;height:28px}._yb_1lwo5{background-position:0 -957px;width:28px;height:28px}._yb_15rx9{background-position:0 -990px;width:28px;height:28px}._yb_1tooy{background-position:0 -1155px;width:28px;height:28px}._yb_o1jpf{background-position:0 -1023px;width:28px;height:28px}._yb_unbt8,._yb_mcrhv{background-position:0 -1056px;width:28px;height:28px}._yb_8pp4p{background-position:0 -1089px;width:28px;height:28px}._yb_lvx00{background-position:0 -1122px;width:28px;height:28px}._yb_1fqhi{background-position:0 -1501px;width:18px;height:18px}._yb_1og4i{background-position:0 -1217px;width:14px;height:9px}._yb_1xu52{background-position:0 -1231px;width:14px;height:9px}@media only screen and (-webkit-min-device-pixel-ratio:2),only screen and (min-device-pixel-ratio:2),only screen and (min-resolution:192dpi),only screen and (min-resolution:2dppx){._yb_ds5fb,._yb_1lmwy ._yb_tkv76,._yb_ky790,._yb_11duf,._yb_tkv76,._yb_unsjt,.ybar-ytheme-fuji2 ._yb_unsjt,._yb_12ldy,._yb_1x6sq,._yb_9efxq,._yb_ghqog,._yb_hnv5f,._yb_bnzw3,._yb_19mpo,._yb_7bmht,._yb_2ds67,._yb_ir0an,._yb_a9fl9,.ybar-ytheme-fuji2 ._yb_ky790,.ybar-ytheme-fuji2.ybar-property-homepage ._yb_ky790,._yb_vxf84,._yb_11gw4,._yb_m4fjp,._yb_1tb3k,._yb_1jbu8,._yb_dxt7w,._yb_syc88,._yb_8qnu1,._yb_wdyu0,._yb_fqfy8,._yb_45e2b,._yb_1219g,._yb_105f1,._yb_21meq,._yb_8wc98,._yb_17ssw,._yb_1kjle,._yb_1nuvw,._yb_1g1wq,._yb_1jq79,._yb_1hivr,._yb_xa6f0,._yb_nkmtu,._yb_1kwai,._yb_lhyyu,._yb_qbcwm,._yb_v0n55,._yb_m1hff,._yb_1vo7y,._yb_1lwo5,._yb_15rx9,._yb_1tooy,._yb_o1jpf,._yb_unbt8,._yb_mcrhv,._yb_8pp4p,._yb_lvx00,._yb_1fqhi,._yb_1og4i,._yb_1xu52{background-image:url(https://s.yimg.com/kr/assets/spritify-sprite-dark-2x-fd484ded-89f6b234.png);background-size:32px 1672px;background-repeat:no-repeat}._yb_ds5fb,._yb_1lmwy ._yb_tkv76{background-position:0 -1541px;width:24px;height:24px}._yb_ky790,._yb_11duf,._yb_tkv76{background-position:0 -1570px;width:24px;height:24px}._yb_unsjt{background-position:0 -1483px;width:24px;height:24px}.ybar-ytheme-fuji2 ._yb_unsjt{background-position:0 -1599px;width:32px;height:32px}._yb_12ldy{background-position:0 -1512px;width:24px;height:24px}.ybar-light ._yb_ds5fb,.ybar-light ._yb_1lmwy ._yb_tkv76,.ybar-light ._yb_ky790,.ybar-light ._yb_11duf,.ybar-light ._yb_tkv76,.ybar-light .ybar-property-homepage ._yb_ky790,.ybar-light ._yb_unsjt,.ybar-light .ybar-ytheme-fuji2 ._yb_unsjt,.ybar-light ._yb_12ldy{background-image:url(https://s.yimg.com/kr/assets/spritify-sprite-light-2x-fd484ded-374cd76d.png);background-size:32px 1699px;background-repeat:no-repeat}.ybar-light ._yb_ds5fb,.ybar-light ._yb_1lmwy ._yb_tkv76{background-position:0 -1568px;width:24px;height:24px}.ybar-light ._yb_ky790,.ybar-light ._yb_11duf,.ybar-light ._yb_tkv76{background-position:0 -1597px;width:24px;height:24px}.ybar-light .ybar-property-homepage ._yb_ky790{background-position:0 -1483px;width:27px;height:20px}.ybar-light ._yb_unsjt{background-position:0 -1508px;width:24px;height:26px}.ybar-light .ybar-ytheme-fuji2 ._yb_unsjt{background-position:0 -1626px;width:32px;height:32px}.ybar-light ._yb_12ldy{background-position:0 -1539px;width:24px;height:24px}._yb_1x6sq{background-position:0 -1188px;width:24px;height:24px}._yb_9efxq{background-position:0 -1245px;width:13px;height:12px}._yb_ghqog{background-position:0 -1262px;width:18px;height:18px}._yb_hnv5f{background-position:0 -1285px;width:18px;height:18px}._yb_bnzw3{background-position:0 -1308px;width:18px;height:16px}._yb_19mpo{background-position:0 -1329px;width:12px;height:12px}._yb_7bmht{background-position:0 -1346px;width:12px;height:12px}._yb_2ds67{background-position:0 -1393px;width:16px;height:16px}._yb_ir0an{background-position:0 -1414px;width:18px;height:18px}._yb_a9fl9{background-position:0 -1437px;width:18px;height:18px}.ybar-ytheme-fuji2 ._yb_ky790,.ybar-ytheme-fuji2.ybar-property-homepage ._yb_ky790{background-position:0 -1363px;width:23px;height:25px}._yb_vxf84{background-position:0 -99px;width:28px;height:28px}._yb_11gw4{background-position:0 -132px;width:28px;height:28px}._yb_m4fjp{background-position:0 -165px;width:28px;height:28px}._yb_1tb3k{background-position:0 -66px;width:28px;height:28px}._yb_1jbu8{background-position:0 -231px;width:28px;height:28px}._yb_dxt7w{background-position:0 -33px;width:28px;height:28px}._yb_syc88{background-position:0 -198px;width:28px;height:28px}._yb_8qnu1{background-position:0 0;width:28px;height:28px}._yb_wdyu0{background-position:0 -297px;width:28px;height:28px}._yb_fqfy8{background-position:0 -264px;width:28px;height:28px}._yb_45e2b{background-position:0 -429px;width:28px;height:28px}._yb_1219g{background-position:0 -495px;width:28px;height:28px}._yb_105f1{background-position:0 -462px;width:28px;height:28px}._yb_21meq{background-position:0 -396px;width:28px;height:28px}._yb_8wc98{background-position:0 -594px;width:28px;height:28px}._yb_17ssw{background-position:0 -528px;width:28px;height:28px}._yb_1kjle{background-position:0 -561px;width:28px;height:28px}._yb_1nuvw{background-position:0 -363px;width:28px;height:28px}._yb_1g1wq{background-position:0 -330px;width:28px;height:28px}._yb_1jq79{background-position:0 -627px;width:28px;height:28px}._yb_1hivr{background-position:0 -660px;width:28px;height:28px}._yb_xa6f0{background-position:0 -693px;width:28px;height:28px}._yb_nkmtu{background-position:0 -726px;width:28px;height:28px}._yb_1kwai{background-position:0 -759px;width:28px;height:28px}._yb_lhyyu{background-position:0 -792px;width:28px;height:28px}._yb_qbcwm{background-position:0 -825px;width:28px;height:28px}._yb_v0n55{background-position:0 -858px;width:28px;height:28px}._yb_m1hff{background-position:0 -891px;width:28px;height:28px}._yb_1vo7y{background-position:0 -924px;width:28px;height:28px}._yb_1lwo5{background-position:0 -957px;width:28px;height:28px}._yb_15rx9{background-position:0 -990px;width:28px;height:28px}._yb_1tooy{background-position:0 -1155px;width:28px;height:28px}._yb_o1jpf{background-position:0 -1023px;width:28px;height:28px}._yb_unbt8,._yb_mcrhv{background-position:0 -1056px;width:28px;height:28px}._yb_8pp4p{background-position:0 -1089px;width:28px;height:28px}._yb_lvx00{background-position:0 -1122px;width:28px;height:28px}._yb_1fqhi{background-position:0 -1460px;width:18px;height:18px}._yb_1og4i{background-position:0 -1217px;width:14px;height:9px}._yb_1xu52{background-position:0 -1231px;width:14px;height:9px}}\n",
              "._yb_1dzop{display:flex;align-items:0;font-size:0;height:100%}._yb_1moop._yb_1dzop,._yb_g98ss._yb_1dzop{width:100%}.ybar-ytheme-fuji2 ._yb_1dzop{max-height:24px;transition:height .4s}.ybar-ytheme-fuji2 ._yb_1moop._yb_1dzop,.ybar-ytheme-fuji2 ._yb_g98ss._yb_1dzop{margin-top:8px;max-height:45px}@media screen and (min-width:1020px){.ybar-ytheme-fuji2 ._yb_1dzop{max-height:32px}.ybar-ytheme-fuji2 ._yb_1moop._yb_1dzop,.ybar-ytheme-fuji2 ._yb_g98ss._yb_1dzop{margin-top:6px;max-height:56px}}.ybar-ytheme-fuji2 ._yb_twwdw._yb_1dzop{width:auto;max-height:40px}._yb_1dzop:focus{outline-offset:2px;outline:3px solid #00abf0;outline:5px auto -webkit-focus-ring-color}._yb_om71v{align-self:flex-start;max-height:100%;max-width:100%}@media screen and (min-width:768px){._yb_om71v{max-height:40px}.ybar-ytheme-oneyahoo ._yb_om71v{max-height:50px}}._yb_g98ss ._yb_om71v{height:100%;max-height:100%}.ybar-ytheme-fuji2 ._yb_om71v{height:auto;width:auto;max-height:100%;max-width:100%;flex-shrink:0;-o-object-fit:contain;object-fit:contain;-o-object-position:left;object-position:left}.ybar-ytheme-fuji2._yb_twwdw ._yb_om71v{-o-object-position:center;object-position:center}.ybar-dark ._yb_g557p,.ybar-light ._yb_1dzm2{display:none}.ybar-amp ._yb_1dzop{display:block;margin:auto;padding:10px 0;text-align:center}@media screen and (max-width:768px){._yb_mgcer ._yb_om71v,._yb_8ota9 ._yb_om71v{height:100%;max-height:32px}}._yb_10vdb{-o-object-fit:fill;object-fit:fill;height:50px;width:50px}.ybar-ytheme-oneyahoo ._yb_om71v{height:50px;width:50px;max-height:unset;max-width:unset}</style>\n",
              "<style nonce=\"\">#consent-page #ybar div{background: #fff;padding-left: 0}.btn {padding: 15px;font-size:20px;min-width: 30%;}.btn.primary{background-color: #188fff;color: #fff;cursor: pointer;}</style>\n",
              "</head>\n",
              "<body class=\"no-touch blur-preview-tpl wizard tcf-2 yahoo eu-localized en-US js\">\n",
              "<script nonce=\"\">\n",
              "    if ('classList' in document.body) {\n",
              "        document.body.classList.add('js');\n",
              "        document.body.classList.remove('no-js');\n",
              "    }\n",
              "</script>\n",
              "<div class=\"theme-2 brandtype-yahoo \" id=\"consent-page\">\n",
              "<div class=\"consent-overlay\">\n",
              "<div aria-describedby=\"consent-text\" aria-labelledby=\"consent-title\" class=\"container con-container \">\n",
              "<div class=\"con-wizard\">\n",
              "<form action=\"\" class=\"consent-form\" method=\"post\">\n",
              "<div class=\"wizard-header\"><div class=\"consent-brand-logo\"><div class=\"ybar-ytheme-classic ybar-property-guce ybar-variant-yahoo _yb_7b6bj _yb_nwgl1 _yb_gvt3c ybar-light ybar-track-link-views\" data-issinglerowheader=\"false\" data-issinglerowsearchbox=\"\" data-spaceid=\"\" data-testid=\"\" data-version=\"3.8.4\" id=\"ybar\" role=\"banner\"> <script id=\"ybarConfig\" type=\"text/x-template\">{}</script> <!-- --><div class=\"_yb_1ukfu\" id=\"ybar-inner-wrap\"><div class=\"_yb_uy89q _yb_2140w\"><div class=\"_yb_1xzb4 _yb_zbxx4\"> <div class=\"_yb_doig1\"><a class=\"_yb_1dzop _yb_8ota9 \" data-ylk=\"slk:guce;elm:logo;sec:ybar;subsec:logo;itc:0;\" href=\"https://www.yahoo.com/\" id=\"ybar-logo\"> <img alt=\"\" class=\"_yb_om71v _yb_g557p _yb_3l3z3\" src=\"https://s.yimg.com/rz/p/yahoo_frontpage_en-US_s_f_p_bestfit_frontpage.png\" srcset=\"https://s.yimg.com/rz/p/yahoo_frontpage_en-US_s_f_p_bestfit_frontpage.png 1x, https://s.yimg.com/rz/p/yahoo_frontpage_en-US_s_f_p_bestfit_frontpage_2x.png 2x\"/><img alt=\"\" class=\"_yb_om71v _yb_1dzm2 _yb_3l3z3\" src=\"https://s.yimg.com/rz/p/yahoo_frontpage_en-US_s_f_w_bestfit_frontpage.png\" srcset=\"https://s.yimg.com/rz/p/yahoo_frontpage_en-US_s_f_w_bestfit_frontpage.png 1x, https://s.yimg.com/rz/p/yahoo_frontpage_en-US_s_f_w_bestfit_frontpage_2x.png 2x\"/>     guce</a></div> <div class=\"_yb_1h9wa ybar-menu-hover-open\" role=\"toolbar\"></div></div></div></div><script charset=\"utf-8\" defer=\"\" src=\"https://edge-mcdn.secure.yahoo.com/ybar/cerebro_min.js\" type=\"text/javascript\"></script></div></div>\n",
              "</div>\n",
              "<div class=\"wizard-body\">\n",
              "<h1 class=\"consent-title\" id=\"consent-title\">Your data. Your experience.</h1>\n",
              "<div class=\"consent-text\" id=\"consent-text\">\n",
              "<p>    Yahoo is part of the <span class=\"info hover touched-once\" data-tooltip=\"Our owned and operated sites and apps, including our Yahoo offerings, Autoblog, Engadget, TechCrunch and AOL. These brands provide content, commerce and mail services to hundreds of millions of users.\">Yahoo</span> family of brands.\n",
              "</p>\n",
              "<p>    By clicking \"<strong>Accept all</strong>\" you agree that Yahoo and <a href=\"/v2/partners?sessionId=3_cc-session_e3a0e8df-2f64-4aa9-8e28-f8e8998c21f7\">our partners</a> will store and/or access information on your device through the use of cookies and similar technologies and process your personal data, to display personalised ads and content, for ad and content measurement, audience insights and product development.\n",
              "</p>\n",
              "<h3>Your personal data that may be used</h3>\n",
              "<ul class=\"content-list\">\n",
              "<li class=\"list-item\">Information about your device and internet connection, including your IP address</li>\n",
              "<li class=\"list-item\">Browsing and search activity while using Yahoo websites and apps</li>\n",
              "<li class=\"list-item\"> <span class=\"info hover\" data-tooltip=\"Geolocation data that describes with reasonable specificity the actual physical location of an individual or device, such as GPS location.\">Precise location</span>\n",
              "</li>\n",
              "</ul>\n",
              "<p>    You can select '<strong>Manage settings</strong>' for more information and to manage your choices. You can change your choices at any time by visiting <a href=\"/redirect?to=https%3A%2F%2Fwww.verizonmedia.com%2Fpolicies%2Fus%2Fen%2Fverizonmedia%2Fprivacy%2Fdashboard%2Findex.html&amp;brandDomain=&amp;brandId=yahoo&amp;tos=eu&amp;step=&amp;sessionId=3_cc-session_e3a0e8df-2f64-4aa9-8e28-f8e8998c21f7&amp;userType=NON_REG\" target=\"_blank\">Your Privacy Controls</a>. Find out more about how we use your information in our <a href=\"/redirect?to=https%3A%2F%2Fwww.verizonmedia.com%2Fpolicies%2Fus%2Fen%2Fverizonmedia%2Fprivacy%2Findex.html&amp;brandDomain=&amp;brandId=yahoo&amp;tos=eu&amp;step=&amp;sessionId=3_cc-session_e3a0e8df-2f64-4aa9-8e28-f8e8998c21f7&amp;userType=NON_REG\" target=\"_blank\">Privacy Policy</a> and <a href=\"/redirect?to=https%3A%2F%2Fwww.verizonmedia.com%2Fpolicies%2Fus%2Fen%2Fverizonmedia%2Fprivacy%2Ftopics%2Fcookies%2Findex.html&amp;brandDomain=&amp;brandId=yahoo&amp;tos=eu&amp;step=&amp;sessionId=3_cc-session_e3a0e8df-2f64-4aa9-8e28-f8e8998c21f7&amp;userType=NON_REG\" target=\"_blank\">Cookie Policy</a>. Click <a href=\"/v2/partners?sessionId=3_cc-session_e3a0e8df-2f64-4aa9-8e28-f8e8998c21f7\">here</a> to find out more about our partners.\n",
              "</p>\n",
              "</div>\n",
              "<div class=\"actions couple\">\n",
              "<input name=\"csrfToken\" type=\"hidden\" value=\"bAChFa4\"/>\n",
              "<input name=\"sessionId\" type=\"hidden\" value=\"3_cc-session_e3a0e8df-2f64-4aa9-8e28-f8e8998c21f7\"/>\n",
              "<input name=\"originalDoneUrl\" type=\"hidden\" value=\"https://br.yahoo.com/topics/bolsa-de-valores/?guccounter=1\"/>\n",
              "<input name=\"namespace\" type=\"hidden\" value=\"yahoo\"/>\n",
              "<button class=\"btn primary\" name=\"agree\" type=\"submit\" value=\"agree\">\n",
              "                  Accept all\n",
              "          </button>\n",
              "<a class=\"btn secondary manage-settings\" href=\"/v2/partners?sessionId=3_cc-session_e3a0e8df-2f64-4aa9-8e28-f8e8998c21f7\" role=\"button\">Manage settings</a>\n",
              "</div>\n",
              "</div>\n",
              "</form>\n",
              "<div class=\"scroll-down-wrapper\">\n",
              "<button class=\"btn\" id=\"scroll-down-btn\">\n",
              "<span class=\"scroll-down-arrow\"></span>Go to end\n",
              "                    </button>\n",
              "</div>\n",
              "</div>\n",
              "</div>\n",
              "</div>\n",
              "</div>\n",
              "<script nonce=\"\" src=\"https://s.yimg.com/oa/build/js/site-5e9771c8.js\"></script>\n",
              "<img class=\"beacon hidden\" src=\"/beacon?tag=TCF2&amp;step=Layer1-View&amp;brandDomain=br.yahoo.com&amp;brandBid=&amp;userType=nonreg&amp;sdk=false&amp;tos=en-US&amp;country=NL&amp;sessionId=3_cc-session_e3a0e8df-2f64-4aa9-8e28-f8e8998c21f7\"/>\n",
              "</body></html>"
            ]
          },
          "metadata": {},
          "execution_count": 17
        }
      ]
    },
    {
      "cell_type": "code",
      "metadata": {
        "colab": {
          "base_uri": "https://localhost:8080/",
          "height": 245
        },
        "id": "_o3tUSYgjerN",
        "outputId": "2e004b11-6390-45bf-d626-9857f3658f79"
      },
      "source": [
        "date_now = datetime.now()\n",
        "new_date = datetime.fromisoformat(date[:-1])\n",
        "print(new_date)\n",
        "new_date = pytz.timezone('America/Sao_Paulo').localize(new_date)\n",
        "new_date_string = new_date.strftime('%Y-%m-%d %H:%M:%S')\n",
        "print(new_date_string)"
      ],
      "execution_count": null,
      "outputs": [
        {
          "output_type": "error",
          "ename": "ValueError",
          "evalue": "ignored",
          "traceback": [
            "\u001b[0;31m---------------------------------------------------------------------------\u001b[0m",
            "\u001b[0;31mValueError\u001b[0m                                Traceback (most recent call last)",
            "\u001b[0;32m<ipython-input-7-c7022be8c084>\u001b[0m in \u001b[0;36m<module>\u001b[0;34m()\u001b[0m\n\u001b[1;32m      1\u001b[0m \u001b[0mdate_now\u001b[0m \u001b[0;34m=\u001b[0m \u001b[0mdatetime\u001b[0m\u001b[0;34m.\u001b[0m\u001b[0mnow\u001b[0m\u001b[0;34m(\u001b[0m\u001b[0;34m)\u001b[0m\u001b[0;34m\u001b[0m\u001b[0;34m\u001b[0m\u001b[0m\n\u001b[0;32m----> 2\u001b[0;31m \u001b[0mnew_date\u001b[0m \u001b[0;34m=\u001b[0m \u001b[0mdatetime\u001b[0m\u001b[0;34m.\u001b[0m\u001b[0mfromisoformat\u001b[0m\u001b[0;34m(\u001b[0m\u001b[0mdate\u001b[0m\u001b[0;34m[\u001b[0m\u001b[0;34m:\u001b[0m\u001b[0;34m-\u001b[0m\u001b[0;36m1\u001b[0m\u001b[0;34m]\u001b[0m\u001b[0;34m)\u001b[0m\u001b[0;34m\u001b[0m\u001b[0;34m\u001b[0m\u001b[0m\n\u001b[0m\u001b[1;32m      3\u001b[0m \u001b[0mprint\u001b[0m\u001b[0;34m(\u001b[0m\u001b[0mnew_date\u001b[0m\u001b[0;34m)\u001b[0m\u001b[0;34m\u001b[0m\u001b[0;34m\u001b[0m\u001b[0m\n\u001b[1;32m      4\u001b[0m \u001b[0mnew_date\u001b[0m \u001b[0;34m=\u001b[0m \u001b[0mpytz\u001b[0m\u001b[0;34m.\u001b[0m\u001b[0mtimezone\u001b[0m\u001b[0;34m(\u001b[0m\u001b[0;34m'America/Sao_Paulo'\u001b[0m\u001b[0;34m)\u001b[0m\u001b[0;34m.\u001b[0m\u001b[0mlocalize\u001b[0m\u001b[0;34m(\u001b[0m\u001b[0mnew_date\u001b[0m\u001b[0;34m)\u001b[0m\u001b[0;34m\u001b[0m\u001b[0;34m\u001b[0m\u001b[0m\n\u001b[1;32m      5\u001b[0m \u001b[0mnew_date_string\u001b[0m \u001b[0;34m=\u001b[0m \u001b[0mnew_date\u001b[0m\u001b[0;34m.\u001b[0m\u001b[0mstrftime\u001b[0m\u001b[0;34m(\u001b[0m\u001b[0;34m'%Y-%m-%d %H:%M:%S'\u001b[0m\u001b[0;34m)\u001b[0m\u001b[0;34m\u001b[0m\u001b[0;34m\u001b[0m\u001b[0m\n",
            "\u001b[0;31mValueError\u001b[0m: Invalid isoformat string: ''"
          ]
        }
      ]
    },
    {
      "cell_type": "code",
      "metadata": {
        "colab": {
          "base_uri": "https://localhost:8080/"
        },
        "id": "oL_Bo_7UOpm2",
        "outputId": "3a0da161-c449-4e4d-b89e-b30c5101ceb6"
      },
      "source": [
        "new_date = dateutil.parser.parse(date)\n",
        "print(new_date)\n",
        "new_date = new_date.astimezone(pytz.timezone('America/Sao_Paulo'))\n",
        "new_date_string = new_date.strftime('%Y-%m-%d %H:%M:%S')\n",
        "pytz.timezone('America/Sao_Paulo')"
      ],
      "execution_count": null,
      "outputs": [
        {
          "output_type": "stream",
          "name": "stdout",
          "text": [
            "2021-11-26 12:30:00+00:00\n"
          ]
        },
        {
          "output_type": "execute_result",
          "data": {
            "text/plain": [
              "<DstTzInfo 'America/Sao_Paulo' LMT-1 day, 20:54:00 STD>"
            ]
          },
          "metadata": {},
          "execution_count": 190
        }
      ]
    },
    {
      "cell_type": "code",
      "metadata": {
        "colab": {
          "base_uri": "https://localhost:8080/",
          "height": 372
        },
        "id": "R8nwVqWoeBDA",
        "outputId": "45253fb8-e80f-45d7-9303-04406dd96c7a"
      },
      "source": [
        "new_date = iso8601.parse_date(date)\n",
        "new_date = new_date.replace(tzinfo=None)\n",
        "print(new_date)\n",
        "new_date = pytz.timezone('America/Sao_Paulo').localize(new_date)\n",
        "aware"
      ],
      "execution_count": null,
      "outputs": [
        {
          "output_type": "error",
          "ename": "ParseError",
          "evalue": "ignored",
          "traceback": [
            "\u001b[0;31m---------------------------------------------------------------------------\u001b[0m",
            "\u001b[0;31mParseError\u001b[0m                                Traceback (most recent call last)",
            "\u001b[0;32m<ipython-input-10-cd1d05d42091>\u001b[0m in \u001b[0;36m<module>\u001b[0;34m()\u001b[0m\n\u001b[0;32m----> 1\u001b[0;31m \u001b[0mnew_date\u001b[0m \u001b[0;34m=\u001b[0m \u001b[0miso8601\u001b[0m\u001b[0;34m.\u001b[0m\u001b[0mparse_date\u001b[0m\u001b[0;34m(\u001b[0m\u001b[0mdate\u001b[0m\u001b[0;34m)\u001b[0m\u001b[0;34m\u001b[0m\u001b[0;34m\u001b[0m\u001b[0m\n\u001b[0m\u001b[1;32m      2\u001b[0m \u001b[0mnew_date\u001b[0m \u001b[0;34m=\u001b[0m \u001b[0mnew_date\u001b[0m\u001b[0;34m.\u001b[0m\u001b[0mreplace\u001b[0m\u001b[0;34m(\u001b[0m\u001b[0mtzinfo\u001b[0m\u001b[0;34m=\u001b[0m\u001b[0;32mNone\u001b[0m\u001b[0;34m)\u001b[0m\u001b[0;34m\u001b[0m\u001b[0;34m\u001b[0m\u001b[0m\n\u001b[1;32m      3\u001b[0m \u001b[0mprint\u001b[0m\u001b[0;34m(\u001b[0m\u001b[0mnew_date\u001b[0m\u001b[0;34m)\u001b[0m\u001b[0;34m\u001b[0m\u001b[0;34m\u001b[0m\u001b[0m\n\u001b[1;32m      4\u001b[0m \u001b[0mnew_date\u001b[0m \u001b[0;34m=\u001b[0m \u001b[0mpytz\u001b[0m\u001b[0;34m.\u001b[0m\u001b[0mtimezone\u001b[0m\u001b[0;34m(\u001b[0m\u001b[0;34m'America/Sao_Paulo'\u001b[0m\u001b[0;34m)\u001b[0m\u001b[0;34m.\u001b[0m\u001b[0mlocalize\u001b[0m\u001b[0;34m(\u001b[0m\u001b[0mnew_date\u001b[0m\u001b[0;34m)\u001b[0m\u001b[0;34m\u001b[0m\u001b[0;34m\u001b[0m\u001b[0m\n\u001b[1;32m      5\u001b[0m \u001b[0maware\u001b[0m\u001b[0;34m\u001b[0m\u001b[0;34m\u001b[0m\u001b[0m\n",
            "\u001b[0;32m/usr/local/lib/python3.7/dist-packages/iso8601/iso8601.py\u001b[0m in \u001b[0;36mparse_date\u001b[0;34m(datestring, default_timezone)\u001b[0m\n\u001b[1;32m    125\u001b[0m \u001b[0;34m\u001b[0m\u001b[0m\n\u001b[1;32m    126\u001b[0m     \u001b[0;32mif\u001b[0m \u001b[0;32mnot\u001b[0m \u001b[0mm\u001b[0m\u001b[0;34m:\u001b[0m\u001b[0;34m\u001b[0m\u001b[0;34m\u001b[0m\u001b[0m\n\u001b[0;32m--> 127\u001b[0;31m         \u001b[0;32mraise\u001b[0m \u001b[0mParseError\u001b[0m\u001b[0;34m(\u001b[0m\u001b[0;34mf\"Unable to parse date string {datestring!r}\"\u001b[0m\u001b[0;34m)\u001b[0m\u001b[0;34m\u001b[0m\u001b[0;34m\u001b[0m\u001b[0m\n\u001b[0m\u001b[1;32m    128\u001b[0m \u001b[0;34m\u001b[0m\u001b[0m\n\u001b[1;32m    129\u001b[0m     \u001b[0;31m# Drop any Nones from the regex matches\u001b[0m\u001b[0;34m\u001b[0m\u001b[0;34m\u001b[0m\u001b[0;34m\u001b[0m\u001b[0m\n",
            "\u001b[0;31mParseError\u001b[0m: Unable to parse date string ''"
          ]
        }
      ]
    },
    {
      "cell_type": "code",
      "metadata": {
        "id": "78MIEOvJj-QT"
      },
      "source": [
        "dataset = pd.DataFrame(,columns=['Título','Descrição','Autor','Data de Publicação',])"
      ],
      "execution_count": null,
      "outputs": []
    }
  ]
}