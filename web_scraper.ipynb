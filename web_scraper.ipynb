{
  "nbformat": 4,
  "nbformat_minor": 0,
  "metadata": {
    "colab": {
      "name": "web_scraper.ipynb",
      "provenance": [],
      "authorship_tag": "ABX9TyM7XR3KXQ8QlnfhibPrkP2T",
      "include_colab_link": true
    },
    "kernelspec": {
      "name": "python3",
      "display_name": "Python 3"
    },
    "language_info": {
      "name": "python"
    }
  },
  "cells": [
    {
      "cell_type": "markdown",
      "metadata": {
        "id": "view-in-github",
        "colab_type": "text"
      },
      "source": [
        "<a href=\"https://colab.research.google.com/github/kethlyncampos/webscraper/blob/main/web_scraper.ipynb\" target=\"_parent\"><img src=\"https://colab.research.google.com/assets/colab-badge.svg\" alt=\"Open In Colab\"/></a>"
      ]
    },
    {
      "cell_type": "code",
      "metadata": {
        "colab": {
          "base_uri": "https://localhost:8080/"
        },
        "id": "SZ2KkZGzSrnk",
        "outputId": "f55d3201-0419-4d29-824f-fcc51d2a475c"
      },
      "source": [
        "!apt update\n",
        "!apt install chromium-chromedriver\n",
        "!pip install selenium\n",
        "!pip install requests\n",
        "!pip install iso8601"
      ],
      "execution_count": 1,
      "outputs": [
        {
          "output_type": "stream",
          "name": "stdout",
          "text": [
            "\u001b[33m\r0% [Working]\u001b[0m\r            \rGet:1 http://security.ubuntu.com/ubuntu bionic-security InRelease [88.7 kB]\n",
            "\u001b[33m\r0% [Connecting to archive.ubuntu.com (91.189.88.152)] [1 InRelease 0 B/88.7 kB \u001b[0m\u001b[33m\r0% [Waiting for headers] [Waiting for headers] [Waiting for headers] [Waiting f\u001b[0m\r                                                                               \rGet:2 https://cloud.r-project.org/bin/linux/ubuntu bionic-cran40/ InRelease [3,626 B]\n",
            "Ign:3 https://developer.download.nvidia.com/compute/cuda/repos/ubuntu1804/x86_64  InRelease\n",
            "Get:4 http://ppa.launchpad.net/c2d4u.team/c2d4u4.0+/ubuntu bionic InRelease [15.9 kB]\n",
            "Hit:5 http://archive.ubuntu.com/ubuntu bionic InRelease\n",
            "Ign:6 https://developer.download.nvidia.com/compute/machine-learning/repos/ubuntu1804/x86_64  InRelease\n",
            "Get:7 https://developer.download.nvidia.com/compute/cuda/repos/ubuntu1804/x86_64  Release [696 B]\n",
            "Hit:8 https://developer.download.nvidia.com/compute/machine-learning/repos/ubuntu1804/x86_64  Release\n",
            "Get:9 https://developer.download.nvidia.com/compute/cuda/repos/ubuntu1804/x86_64  Release.gpg [836 B]\n",
            "Get:10 http://archive.ubuntu.com/ubuntu bionic-updates InRelease [88.7 kB]\n",
            "Hit:11 http://ppa.launchpad.net/cran/libgit2/ubuntu bionic InRelease\n",
            "Get:12 http://security.ubuntu.com/ubuntu bionic-security/universe amd64 Packages [1,442 kB]\n",
            "Get:13 http://archive.ubuntu.com/ubuntu bionic-backports InRelease [74.6 kB]\n",
            "Hit:14 http://ppa.launchpad.net/deadsnakes/ppa/ubuntu bionic InRelease\n",
            "Get:15 http://security.ubuntu.com/ubuntu bionic-security/main amd64 Packages [2,430 kB]\n",
            "Hit:16 http://ppa.launchpad.net/graphics-drivers/ppa/ubuntu bionic InRelease\n",
            "Get:18 https://developer.download.nvidia.com/compute/cuda/repos/ubuntu1804/x86_64  Packages [828 kB]\n",
            "Get:19 http://ppa.launchpad.net/c2d4u.team/c2d4u4.0+/ubuntu bionic/main Sources [1,812 kB]\n",
            "Get:20 http://archive.ubuntu.com/ubuntu bionic-updates/main amd64 Packages [2,867 kB]\n",
            "Get:21 http://ppa.launchpad.net/c2d4u.team/c2d4u4.0+/ubuntu bionic/main amd64 Packages [930 kB]\n",
            "Get:22 http://archive.ubuntu.com/ubuntu bionic-updates/universe amd64 Packages [2,224 kB]\n",
            "Fetched 12.8 MB in 4s (3,206 kB/s)\n",
            "Reading package lists... Done\n",
            "Building dependency tree       \n",
            "Reading state information... Done\n",
            "40 packages can be upgraded. Run 'apt list --upgradable' to see them.\n",
            "Reading package lists... Done\n",
            "Building dependency tree       \n",
            "Reading state information... Done\n",
            "The following additional packages will be installed:\n",
            "  chromium-browser chromium-browser-l10n chromium-codecs-ffmpeg-extra\n",
            "Suggested packages:\n",
            "  webaccounts-chromium-extension unity-chromium-extension\n",
            "The following NEW packages will be installed:\n",
            "  chromium-browser chromium-browser-l10n chromium-chromedriver\n",
            "  chromium-codecs-ffmpeg-extra\n",
            "0 upgraded, 4 newly installed, 0 to remove and 40 not upgraded.\n",
            "Need to get 94.0 MB of archives.\n",
            "After this operation, 324 MB of additional disk space will be used.\n",
            "Get:1 http://archive.ubuntu.com/ubuntu bionic-updates/universe amd64 chromium-codecs-ffmpeg-extra amd64 95.0.4638.69-0ubuntu0.18.04.1 [1,135 kB]\n",
            "Get:2 http://archive.ubuntu.com/ubuntu bionic-updates/universe amd64 chromium-browser amd64 95.0.4638.69-0ubuntu0.18.04.1 [83.6 MB]\n",
            "Get:3 http://archive.ubuntu.com/ubuntu bionic-updates/universe amd64 chromium-browser-l10n all 95.0.4638.69-0ubuntu0.18.04.1 [4,249 kB]\n",
            "Get:4 http://archive.ubuntu.com/ubuntu bionic-updates/universe amd64 chromium-chromedriver amd64 95.0.4638.69-0ubuntu0.18.04.1 [4,986 kB]\n",
            "Fetched 94.0 MB in 4s (23.4 MB/s)\n",
            "Selecting previously unselected package chromium-codecs-ffmpeg-extra.\n",
            "(Reading database ... 155222 files and directories currently installed.)\n",
            "Preparing to unpack .../chromium-codecs-ffmpeg-extra_95.0.4638.69-0ubuntu0.18.04.1_amd64.deb ...\n",
            "Unpacking chromium-codecs-ffmpeg-extra (95.0.4638.69-0ubuntu0.18.04.1) ...\n",
            "Selecting previously unselected package chromium-browser.\n",
            "Preparing to unpack .../chromium-browser_95.0.4638.69-0ubuntu0.18.04.1_amd64.deb ...\n",
            "Unpacking chromium-browser (95.0.4638.69-0ubuntu0.18.04.1) ...\n",
            "Selecting previously unselected package chromium-browser-l10n.\n",
            "Preparing to unpack .../chromium-browser-l10n_95.0.4638.69-0ubuntu0.18.04.1_all.deb ...\n",
            "Unpacking chromium-browser-l10n (95.0.4638.69-0ubuntu0.18.04.1) ...\n",
            "Selecting previously unselected package chromium-chromedriver.\n",
            "Preparing to unpack .../chromium-chromedriver_95.0.4638.69-0ubuntu0.18.04.1_amd64.deb ...\n",
            "Unpacking chromium-chromedriver (95.0.4638.69-0ubuntu0.18.04.1) ...\n",
            "Setting up chromium-codecs-ffmpeg-extra (95.0.4638.69-0ubuntu0.18.04.1) ...\n",
            "Setting up chromium-browser (95.0.4638.69-0ubuntu0.18.04.1) ...\n",
            "update-alternatives: using /usr/bin/chromium-browser to provide /usr/bin/x-www-browser (x-www-browser) in auto mode\n",
            "update-alternatives: using /usr/bin/chromium-browser to provide /usr/bin/gnome-www-browser (gnome-www-browser) in auto mode\n",
            "Setting up chromium-chromedriver (95.0.4638.69-0ubuntu0.18.04.1) ...\n",
            "Setting up chromium-browser-l10n (95.0.4638.69-0ubuntu0.18.04.1) ...\n",
            "Processing triggers for man-db (2.8.3-2ubuntu0.1) ...\n",
            "Processing triggers for hicolor-icon-theme (0.17-2) ...\n",
            "Processing triggers for mime-support (3.60ubuntu1) ...\n",
            "Processing triggers for libc-bin (2.27-3ubuntu1.3) ...\n",
            "/sbin/ldconfig.real: /usr/local/lib/python3.7/dist-packages/ideep4py/lib/libmkldnn.so.0 is not a symbolic link\n",
            "\n",
            "Collecting selenium\n",
            "  Downloading selenium-4.1.0-py3-none-any.whl (958 kB)\n",
            "\u001b[K     |████████████████████████████████| 958 kB 5.1 MB/s \n",
            "\u001b[?25hCollecting urllib3[secure]~=1.26\n",
            "  Downloading urllib3-1.26.7-py2.py3-none-any.whl (138 kB)\n",
            "\u001b[K     |████████████████████████████████| 138 kB 53.9 MB/s \n",
            "\u001b[?25hCollecting trio-websocket~=0.9\n",
            "  Downloading trio_websocket-0.9.2-py3-none-any.whl (16 kB)\n",
            "Collecting trio~=0.17\n",
            "  Downloading trio-0.19.0-py3-none-any.whl (356 kB)\n",
            "\u001b[K     |████████████████████████████████| 356 kB 52.2 MB/s \n",
            "\u001b[?25hCollecting async-generator>=1.9\n",
            "  Downloading async_generator-1.10-py3-none-any.whl (18 kB)\n",
            "Requirement already satisfied: sortedcontainers in /usr/local/lib/python3.7/dist-packages (from trio~=0.17->selenium) (2.4.0)\n",
            "Requirement already satisfied: idna in /usr/local/lib/python3.7/dist-packages (from trio~=0.17->selenium) (2.10)\n",
            "Collecting sniffio\n",
            "  Downloading sniffio-1.2.0-py3-none-any.whl (10 kB)\n",
            "Requirement already satisfied: attrs>=19.2.0 in /usr/local/lib/python3.7/dist-packages (from trio~=0.17->selenium) (21.2.0)\n",
            "Collecting outcome\n",
            "  Downloading outcome-1.1.0-py2.py3-none-any.whl (9.7 kB)\n",
            "Collecting wsproto>=0.14\n",
            "  Downloading wsproto-1.0.0-py3-none-any.whl (24 kB)\n",
            "Collecting pyOpenSSL>=0.14\n",
            "  Downloading pyOpenSSL-21.0.0-py2.py3-none-any.whl (55 kB)\n",
            "\u001b[K     |████████████████████████████████| 55 kB 3.2 MB/s \n",
            "\u001b[?25hCollecting cryptography>=1.3.4\n",
            "  Downloading cryptography-36.0.0-cp36-abi3-manylinux_2_24_x86_64.whl (3.6 MB)\n",
            "\u001b[K     |████████████████████████████████| 3.6 MB 40.6 MB/s \n",
            "\u001b[?25hRequirement already satisfied: certifi in /usr/local/lib/python3.7/dist-packages (from urllib3[secure]~=1.26->selenium) (2021.10.8)\n",
            "Requirement already satisfied: cffi>=1.12 in /usr/local/lib/python3.7/dist-packages (from cryptography>=1.3.4->urllib3[secure]~=1.26->selenium) (1.15.0)\n",
            "Requirement already satisfied: pycparser in /usr/local/lib/python3.7/dist-packages (from cffi>=1.12->cryptography>=1.3.4->urllib3[secure]~=1.26->selenium) (2.21)\n",
            "Requirement already satisfied: six>=1.5.2 in /usr/local/lib/python3.7/dist-packages (from pyOpenSSL>=0.14->urllib3[secure]~=1.26->selenium) (1.15.0)\n",
            "Collecting h11<1,>=0.9.0\n",
            "  Downloading h11-0.12.0-py3-none-any.whl (54 kB)\n",
            "\u001b[K     |████████████████████████████████| 54 kB 3.1 MB/s \n",
            "\u001b[?25hInstalling collected packages: sniffio, outcome, h11, cryptography, async-generator, wsproto, urllib3, trio, pyOpenSSL, trio-websocket, selenium\n",
            "  Attempting uninstall: urllib3\n",
            "    Found existing installation: urllib3 1.24.3\n",
            "    Uninstalling urllib3-1.24.3:\n",
            "      Successfully uninstalled urllib3-1.24.3\n",
            "\u001b[31mERROR: pip's dependency resolver does not currently take into account all the packages that are installed. This behaviour is the source of the following dependency conflicts.\n",
            "requests 2.23.0 requires urllib3!=1.25.0,!=1.25.1,<1.26,>=1.21.1, but you have urllib3 1.26.7 which is incompatible.\n",
            "datascience 0.10.6 requires folium==0.2.1, but you have folium 0.8.3 which is incompatible.\u001b[0m\n",
            "Successfully installed async-generator-1.10 cryptography-36.0.0 h11-0.12.0 outcome-1.1.0 pyOpenSSL-21.0.0 selenium-4.1.0 sniffio-1.2.0 trio-0.19.0 trio-websocket-0.9.2 urllib3-1.26.7 wsproto-1.0.0\n",
            "Requirement already satisfied: requests in /usr/local/lib/python3.7/dist-packages (2.23.0)\n",
            "Requirement already satisfied: chardet<4,>=3.0.2 in /usr/local/lib/python3.7/dist-packages (from requests) (3.0.4)\n",
            "Requirement already satisfied: certifi>=2017.4.17 in /usr/local/lib/python3.7/dist-packages (from requests) (2021.10.8)\n",
            "Collecting urllib3!=1.25.0,!=1.25.1,<1.26,>=1.21.1\n",
            "  Downloading urllib3-1.25.11-py2.py3-none-any.whl (127 kB)\n",
            "\u001b[K     |████████████████████████████████| 127 kB 5.1 MB/s \n",
            "\u001b[?25hRequirement already satisfied: idna<3,>=2.5 in /usr/local/lib/python3.7/dist-packages (from requests) (2.10)\n",
            "Installing collected packages: urllib3\n",
            "  Attempting uninstall: urllib3\n",
            "    Found existing installation: urllib3 1.26.7\n",
            "    Uninstalling urllib3-1.26.7:\n",
            "      Successfully uninstalled urllib3-1.26.7\n",
            "\u001b[31mERROR: pip's dependency resolver does not currently take into account all the packages that are installed. This behaviour is the source of the following dependency conflicts.\n",
            "selenium 4.1.0 requires urllib3[secure]~=1.26, but you have urllib3 1.25.11 which is incompatible.\n",
            "datascience 0.10.6 requires folium==0.2.1, but you have folium 0.8.3 which is incompatible.\u001b[0m\n",
            "Successfully installed urllib3-1.25.11\n",
            "Collecting iso8601\n",
            "  Downloading iso8601-1.0.2-py3-none-any.whl (9.7 kB)\n",
            "Installing collected packages: iso8601\n",
            "Successfully installed iso8601-1.0.2\n"
          ]
        }
      ]
    },
    {
      "cell_type": "code",
      "metadata": {
        "id": "qJBceqNAS7Sw"
      },
      "source": [
        "import requests\n",
        "import pandas as pd\n",
        "from time import sleep\n",
        "from bs4 import BeautifulSoup\n",
        "from selenium import webdriver\n",
        "import pytz\n",
        "from datetime import datetime\n",
        "import iso8601\n",
        "from dateutil import tz\n",
        "from google.colab import drive\n",
        "from selenium.webdriver.common.by import By\n",
        "import re\n",
        "from selenium.webdriver.support.ui import WebDriverWait\n",
        "from selenium.webdriver.support import expected_conditions as EC"
      ],
      "execution_count": 54,
      "outputs": []
    },
    {
      "cell_type": "code",
      "metadata": {
        "colab": {
          "base_uri": "https://localhost:8080/"
        },
        "id": "wlZObRxMTZl7",
        "outputId": "1c725630-030b-47b2-d9aa-d37d248b03b8"
      },
      "source": [
        "drive.mount(\"/content/gdrive\")"
      ],
      "execution_count": 10,
      "outputs": [
        {
          "output_type": "stream",
          "name": "stdout",
          "text": [
            "Mounted at /content/gdrive\n"
          ]
        }
      ]
    },
    {
      "cell_type": "code",
      "metadata": {
        "id": "8bebDQUaTnhu"
      },
      "source": [
        "yahoo = pd.read_csv('/content/gdrive/MyDrive/news_yahoo.csv')\n",
        "infomoney = pd.read_csv('/content/gdrive/MyDrive/news_infomoney.csv', lineterminator='\\n')"
      ],
      "execution_count": 55,
      "outputs": []
    },
    {
      "cell_type": "code",
      "metadata": {
        "id": "HxuD3W8_Tsqu"
      },
      "source": [
        "comp_yahoo = []\n",
        "comp_infomoney = []\n",
        "\n",
        "for c in yahoo['URL']:\n",
        "  comp_yahoo.append(c)\n",
        "\n",
        "for c in infomoney['URL']:\n",
        "  comp_infomoney.append(c)"
      ],
      "execution_count": 56,
      "outputs": []
    },
    {
      "cell_type": "code",
      "metadata": {
        "id": "gvLBTaMMS_VR"
      },
      "source": [
        "options = webdriver.ChromeOptions()\n",
        "options.add_argument('--headless')\n",
        "options.add_argument('--no-sandbox')\n",
        "options.add_argument('--disable-dev-shm-usage')\n",
        "options.add_argument(\"--disable-notifications\")\n",
        "options.add_argument(\"user-agent=Mozilla/5.0 (Windows NT 6.1; Win64; x64) AppleWebKit/537.36 (KHTML, like Gecko) Chrome/84.0.4147.125 Safari/537.36\")\n",
        "browser = webdriver.Chrome(options=options)"
      ],
      "execution_count": 80,
      "outputs": []
    },
    {
      "cell_type": "code",
      "metadata": {
        "id": "uYq9ahFKTDAZ"
      },
      "source": [
        "def req_yahoo(url):\n",
        "  browser.get(url)\n",
        "  scrollar()\n",
        "  links = browser.find_elements(By.CSS_SELECTOR, 'a.js-content-viewer.rapidnofollow')\n",
        "  noticias = []\n",
        "\n",
        "  for link in links:\n",
        "    if (('https://br.yahoo.com/news/' not in link.get_attribute('href')) and (link.get_attribute('href') not in comp_yahoo)):\n",
        "      browser.execute_script(\"arguments[0].click();\", link)\n",
        "      scrollar()\n",
        "      WebDriverWait(browser, 20).until(EC.presence_of_element_located((By.TAG_NAME, \"h1\")))\n",
        "      temp = BeautifulSoup(browser.page_source, 'html.parser')\n",
        "      title = temp.find('h1', attrs={'data-test-locator':'headline'}).text\n",
        "      author = temp.find('span', attrs={'class':'caas-author-byline-collapse'}).text\n",
        "      collect_date = convert_timezone(datetime.now())\n",
        "      publication_date = convert_timezone(iso8601.parse_date(temp.find('time')['datetime']))\n",
        "      description = temp.find('div', attrs={'class':'caas-body'})\n",
        "      try:\n",
        "        description.figure.decompose()\n",
        "        description = description.text\n",
        "      except:\n",
        "        description = description.text\n",
        "      noticias.append(['Yahoo Finanças',title, description, author, publication_date, collect_date, browser.current_url])\n",
        "      browser.back()\n",
        "      sleep(5)\n",
        "\n",
        "  return noticias"
      ],
      "execution_count": 75,
      "outputs": []
    },
    {
      "cell_type": "code",
      "metadata": {
        "id": "2Uy2uP2Lc6mo"
      },
      "source": [
        "def req_infomoney(url):\n",
        "  browser.get(url)\n",
        "  browser.implicitly_wait(10)\n",
        "  browser.maximize_window()\n",
        "  alert = browser.switch_to.active_element.click\n",
        "  infinite = browser.find_element(By.ID, 'infinite-handle')\n",
        "  browser.execute_script(\"arguments[0].click();\", infinite)\n",
        "  count = 40\n",
        "  while(count > 0):\n",
        "    browser.execute_script(\"window.scrollTo(0, document.body.scrollHeight);\")\n",
        "    sleep(5)\n",
        "    browser.execute_script(\"arguments[0].click();\", infinite)\n",
        "    newHeight = browser.execute_script(\"return document.body.scrollHeight\")\n",
        "    lastHeight = newHeight\n",
        "    count-=1\n",
        "  return BeautifulSoup(browser.page_source, 'html.parser')"
      ],
      "execution_count": 59,
      "outputs": []
    },
    {
      "cell_type": "code",
      "metadata": {
        "id": "Zpi-WFnFTGi6"
      },
      "source": [
        "def scrollar():\n",
        "  lastHeight = browser.execute_script(\"return document.body.scrollHeight\")\n",
        "  while True:\n",
        "      browser.execute_script(\"window.scrollTo(0, document.body.scrollHeight);\")\n",
        "      sleep(5)\n",
        "      newHeight = browser.execute_script(\"return document.body.scrollHeight\")\n",
        "      if newHeight == lastHeight:\n",
        "          break\n",
        "      lastHeight = newHeight\n",
        "  return"
      ],
      "execution_count": 60,
      "outputs": []
    },
    {
      "cell_type": "code",
      "metadata": {
        "id": "86_FH_jcTLSV"
      },
      "source": [
        "def convert_timezone(date_time):\n",
        "  sp = tz.gettz('America/Sao_Paulo')\n",
        "  new_date = date_time.replace(tzinfo=pytz.utc)\n",
        "  new_date = new_date.astimezone(sp)\n",
        "  new_date = new_date.strftime('%Y-%m-%d %H:%M:%S')\n",
        "  return new_date"
      ],
      "execution_count": 61,
      "outputs": []
    },
    {
      "cell_type": "code",
      "metadata": {
        "id": "tYtWcU_JTNv8"
      },
      "source": [
        "def trata_string(data):\n",
        "  data = re.sub(r'[\\t\\n ]+', ' ', data)\n",
        "  data = re.sub(r'(?s)<figure.*?</figure>', ' ', data)\n",
        "  return data"
      ],
      "execution_count": 62,
      "outputs": []
    },
    {
      "cell_type": "code",
      "metadata": {
        "colab": {
          "base_uri": "https://localhost:8080/"
        },
        "id": "PHdfAK0iTPBH",
        "outputId": "8ed8fd57-e404-40a1-d0af-77e083836361"
      },
      "source": [
        "array_noticias = req_yahoo('https://br.yahoo.com/topics/bolsa-de-valores/')"
      ],
      "execution_count": 81,
      "outputs": [
        {
          "output_type": "stream",
          "name": "stdout",
          "text": [
            "https://br.financas.yahoo.com/noticias/2-supermercado-responde-por-80-154600120.html\n",
            "entrei\n",
            "https://br.financas.yahoo.com/noticias/mercado-de-cannabis-conheca-5-empresas-que-movimentam-milhoes-080021118.html\n",
            "entrei\n",
            "https://br.financas.yahoo.com/noticias/entenda-o-que-%C3%A9-greenwashing-164700173.html\n",
            "entrei\n",
            "https://br.financas.yahoo.com/noticias/investidor-da-bolsa-ainda-mira-160700421.html\n",
            "entrei\n",
            "https://br.financas.yahoo.com/noticias/queda-mercado-e-novidades-da-132316386.html\n",
            "entrei\n",
            "https://br.yahoo.com/finance/news/press%C3%A3o-internacional-por-preserva%C3%A7%C3%A3o-que-201954902.html\n",
            "https://br.yahoo.com/finance/news/panela-el%C3%A9trica-japonesa-torna-frango-155806972.html\n",
            "https://br.yahoo.com/finance/news/infla%C3%A7%C3%A3o-da-carne-abre-espa%C3%A7o-204519379.html\n",
            "https://br.yahoo.com/finance/news/presidente-m%C3%A9xico-escolhe-subsecret%C3%A1ria-fazenda-143253998.html\n",
            "entrei\n",
            "https://br.noticias.yahoo.com/produtores-soja-tacham-protecionista-plano-202825625.html\n",
            "entrei\n",
            "https://br.noticias.yahoo.com/tv-brasil-faz-corre%C3%A7%C3%A3o-quest%C3%B5es-103900639.html\n",
            "entrei\n",
            "https://br.noticias.yahoo.com/elei%C3%A7%C3%A3o-quebra-uma-barreira-diz-103000662.html\n",
            "entrei\n",
            "https://br.noticias.yahoo.com/m%C3%A9xico-exigir%C3%A1-visto-brasileiros-partir-233404930.html\n",
            "entrei\n",
            "https://br.noticias.yahoo.com/brasil-proibir%C3%A1-voos-6-pa%C3%ADses-233120848.html\n",
            "entrei\n",
            "https://br.noticias.yahoo.com/patricia-vanzolini-%C3%A9-eleita-e-215500232.html\n",
            "entrei\n",
            "https://br.yahoo.com/finance/video/in%C3%ADcio-aux%C3%ADlio-emergencial-foi-perrengue-030000588.html\n",
            "https://br.yahoo.com/financas/noticias/2-supermercado-responde-por-80-154600120.html\n",
            "entrei\n",
            "https://br.yahoo.com/financas/noticias/2-supermercado-responde-por-80-154600120.html\n",
            "entrei\n",
            "https://br.yahoo.com/financas/noticias/mercado-de-cannabis-conheca-5-empresas-que-movimentam-milhoes-080021118.html\n",
            "entrei\n",
            "https://br.yahoo.com/financas/noticias/mercado-de-cannabis-conheca-5-empresas-que-movimentam-milhoes-080021118.html\n",
            "entrei\n",
            "https://br.yahoo.com/financas/noticias/entenda-o-que-%C3%A9-greenwashing-164700173.html\n",
            "entrei\n",
            "https://br.yahoo.com/financas/noticias/entenda-o-que-%C3%A9-greenwashing-164700173.html\n",
            "entrei\n",
            "https://br.yahoo.com/financas/noticias/investidor-da-bolsa-ainda-mira-160700421.html\n",
            "https://br.yahoo.com/financas/noticias/investidor-da-bolsa-ainda-mira-160700421.html\n",
            "https://br.yahoo.com/financas/noticias/queda-mercado-e-novidades-da-132316386.html\n",
            "entrei\n",
            "https://br.yahoo.com/financas/noticias/queda-mercado-e-novidades-da-132316386.html\n",
            "entrei\n",
            "https://br.yahoo.com/financas/noticias/nova-variante-da-covid-derruba-004800563.html\n",
            "entrei\n",
            "https://br.yahoo.com/financas/noticias/nova-variante-da-covid-derruba-004800563.html\n",
            "entrei\n",
            "https://br.yahoo.com/noticias/bolsas-derretem-223053027.html\n",
            "entrei\n",
            "https://br.yahoo.com/finance/news/ibovespa-tem-maior-queda-em-220027500.html\n",
            "entrei\n",
            "https://br.yahoo.com/finance/news/ibovespa-tem-maior-queda-em-220027500.html\n",
            "entrei\n",
            "https://br.yahoo.com/noticias/lei-que-garante-bolsas-para-215800084.html\n",
            "https://br.yahoo.com/financas/noticias/n%C3%BAmeros-mercado-financeiro-214900391.html\n",
            "https://br.yahoo.com/financas/noticias/ibovespa-afunda-com-avers%C3%A3o-global-211218039.html\n",
            "https://br.yahoo.com/finance/news/bolsa-est%C3%A1-barata-mas-incertezas-203942225.html\n",
            "https://br.yahoo.com/finance/news/bolsa-est%C3%A1-barata-mas-incertezas-203942225.html\n",
            "https://br.yahoo.com/finance/news/bitcoin-e-ethereum-seguindo-o-191906315.html\n",
            "https://br.yahoo.com/finance/news/bitcoin-e-ethereum-seguindo-o-191906315.html\n",
            "https://br.yahoo.com/finance/news/a%C3%A7%C3%B5es-europeias-sofrem-pior-dia-174627980.html\n",
            "https://br.yahoo.com/finance/news/a%C3%A7%C3%B5es-europeias-sofrem-pior-dia-174627980.html\n",
            "https://br.yahoo.com/finance/news/ibovespa-afunda-e-renova-patamar-171331046.html\n",
            "https://br.yahoo.com/finance/news/ibovespa-afunda-e-renova-patamar-171331046.html\n",
            "https://br.yahoo.com/noticias/bolsa-valores-s%C3%A3o-paulo-sofre-160215864.html\n",
            "https://br.yahoo.com/noticias/bolsa-valores-s%C3%A3o-paulo-sofre-160215864.html\n",
            "https://br.yahoo.com/financas/noticias/confian%C3%A7a-da-ind%C3%BAstria-cai-3-154500747.html\n",
            "https://br.yahoo.com/financas/noticias/confian%C3%A7a-da-ind%C3%BAstria-cai-3-154500747.html\n",
            "https://br.yahoo.com/finance/news/nova-variante-coronav%C3%ADrus-derruba-o-145648668.html\n",
            "https://br.yahoo.com/finance/news/nova-variante-coronav%C3%ADrus-derruba-o-145648668.html\n",
            "https://br.yahoo.com/finance/news/wall-st-cai-com-for%C3%A7a-144038788.html\n",
            "https://br.yahoo.com/finance/news/wall-st-cai-com-for%C3%A7a-144038788.html\n",
            "https://br.yahoo.com/finance/news/ibovespa-afunda-em-sess%C3%A3o-avers%C3%A3o-140857691.html\n",
            "https://br.yahoo.com/finance/news/ibovespa-afunda-em-sess%C3%A3o-avers%C3%A3o-140857691.html\n",
            "https://br.yahoo.com/financas/noticias/a%C3%A7%C3%B5es-cias-a%C3%A9reas-turismo-e-133042870.html\n",
            "https://br.yahoo.com/financas/noticias/ibovespa-abre-est%C3%A1vel-apesar-receios-130820107.html\n",
            "https://br.yahoo.com/finance/news/confian%C3%A7a-da-ind%C3%BAstria-cai-3-123000038.html\n",
            "https://br.yahoo.com/finance/news/bolsas-asi%C3%A1ticas-caem-com-alerta-114738492.html\n",
            "https://br.yahoo.com/finance/news/bolsas-asi%C3%A1ticas-caem-com-alerta-114738492.html\n",
            "https://br.yahoo.com/finance/news/petrobras-e-vale-em-nova-110000415.html\n",
            "https://br.yahoo.com/finance/news/a%C3%A7%C3%B5es-da-china-fecham-em-103342117.html\n",
            "https://br.yahoo.com/finance/news/a%C3%A7%C3%B5es-da-china-fecham-em-103342117.html\n",
            "https://br.yahoo.com/finance/news/semana-nervosismo-nos-mercados-termina-102308988.html\n",
            "https://br.yahoo.com/noticias/pequim-exige-sa%C3%ADda-didi-o-091419572.html\n",
            "https://br.yahoo.com/noticias/pequim-exige-sa%C3%ADda-didi-o-091419572.html\n",
            "https://br.yahoo.com/finance/news/assembleia-banco-inter-aprova-listagem-233124444.html\n",
            "https://br.yahoo.com/financas/noticias/cvm-abre-processo-contra-ex-231800214.html\n",
            "https://br.yahoo.com/financas/noticias/%C3%ADndice-confian%C3%A7a-da-constru%C3%A7%C3%A3o-recua-224600458.html\n",
            "https://br.yahoo.com/financas/noticias/impulsionada-por-petrobras-bolsa-marca-222300736.html\n",
            "https://br.yahoo.com/financas/noticias/impulsionada-por-petrobras-bolsa-marca-222300736.html\n",
            "https://br.yahoo.com/finance/news/ibovespa-tem-alta-firme-puxada-214423815.html\n",
            "https://br.yahoo.com/finance/news/ibovespa-tem-alta-firme-puxada-214423815.html\n",
            "https://br.yahoo.com/finance/news/mercado-europeu-se-recupera-m%C3%ADnimas-172437270.html\n",
            "https://br.yahoo.com/finance/news/mercado-europeu-se-recupera-m%C3%ADnimas-172437270.html\n",
            "https://br.yahoo.com/financas/noticias/constitutiondao-anuncia-fim-e-vai-170430414.html\n",
            "https://br.yahoo.com/financas/noticias/constitutiondao-anuncia-fim-e-vai-170430414.html\n",
            "https://br.yahoo.com/finance/news/fundos-a%C3%A7%C3%B5es-renderam-mais-em-162409630.html\n",
            "https://br.yahoo.com/finance/news/fundos-a%C3%A7%C3%B5es-renderam-mais-em-162409630.html\n",
            "https://br.yahoo.com/finance/news/d%C3%B3lar-ajusta-para-baixo-com-162238499.html\n",
            "https://br.yahoo.com/finance/news/d%C3%B3lar-ajusta-para-baixo-com-162238499.html\n",
            "https://br.yahoo.com/financas/noticias/retomada-das-viagens-impulsiona-mercado-152900937.html\n",
            "https://br.yahoo.com/finance/news/ibovespa-sobe-em-sess%C3%A3o-sem-145402613.html\n",
            "https://br.yahoo.com/finance/news/ibovespa-sobe-em-sess%C3%A3o-sem-145402613.html\n",
            "https://br.yahoo.com/financas/noticias/ibovespa-tem-o-pior-desempenho-do-mundo-em-2021-133631381.html\n",
            "https://br.yahoo.com/financas/noticias/ibovespa-tem-o-pior-desempenho-do-mundo-em-2021-133631381.html\n",
            "https://br.yahoo.com/financas/noticias/ibovespa-sobe-em-sess%C3%A3o-sem-131422090.html\n",
            "https://br.yahoo.com/finance/news/a%C3%A7%C3%B5es-da-china-fecham-em-103654080.html\n",
            "https://br.yahoo.com/finance/news/a%C3%A7%C3%B5es-da-china-fecham-em-103654080.html\n",
            "https://br.yahoo.com/financas/noticias/guedes-diz-empres%C3%A1rios-que-mercado-011800296.html\n",
            "https://br.yahoo.com/financas/noticias/guedes-diz-empres%C3%A1rios-que-mercado-011800296.html\n",
            "https://br.yahoo.com/financas/noticias/petrobras-vale-e-bancos-puxam-231900892.html\n",
            "https://br.yahoo.com/finance/news/ibovespa-sobe-com-novo-impulso-221009242.html\n",
            "https://br.yahoo.com/finance/news/pre%C3%A7os-petr%C3%B3leo-fecham-praticamente-est%C3%A1veis-205722779.html\n",
            "https://br.yahoo.com/finance/news/pre%C3%A7os-petr%C3%B3leo-fecham-praticamente-est%C3%A1veis-205722779.html\n",
            "https://br.yahoo.com/finance/news/nos-eua-ouro-e-bolsa-202622876.html\n",
            "https://br.yahoo.com/finance/news/nos-eua-ouro-e-bolsa-202622876.html\n",
            "https://br.yahoo.com/finance/news/b3-estuda-lan%C3%A7ar-negocia%C3%A7%C3%A3o-futuros-193311162.html\n",
            "https://br.yahoo.com/finance/news/b3-estuda-lan%C3%A7ar-negocia%C3%A7%C3%A3o-futuros-193311162.html\n",
            "https://br.yahoo.com/financas/noticias/depois-de-touro-de-ouro-bolsa-de-valores-cai-113-185515235.html\n",
            "https://br.yahoo.com/financas/noticias/depois-de-touro-de-ouro-bolsa-de-valores-cai-113-185515235.html\n",
            "https://br.yahoo.com/financas/noticias/touro-ouro-da-b3-vai-184200816.html\n",
            "https://br.yahoo.com/financas/noticias/touro-ouro-da-b3-vai-184200816.html\n"
          ]
        }
      ]
    },
    {
      "cell_type": "code",
      "metadata": {
        "id": "bTRXJuEWpxXk"
      },
      "source": [
        "array_noticias"
      ],
      "execution_count": null,
      "outputs": []
    },
    {
      "cell_type": "code",
      "metadata": {
        "id": "H-OQ18uMTfCZ"
      },
      "source": [
        "dataset_temp = pd.DataFrame(array_noticias,columns=['Fonte', 'Título', 'Descrição', 'Autor', 'Data/Hora de Publicação', 'Data/Hora de Coleta', 'URL'])"
      ],
      "execution_count": 82,
      "outputs": []
    },
    {
      "cell_type": "code",
      "metadata": {
        "id": "OjcNQMuVT4ZE"
      },
      "source": [
        "dataset_temp.drop_duplicates(subset=['Descrição'], inplace = True)"
      ],
      "execution_count": 83,
      "outputs": []
    },
    {
      "cell_type": "code",
      "metadata": {
        "id": "_YXs7QygT95D"
      },
      "source": [
        "dataset_temp.reset_index(drop = True, inplace = True)"
      ],
      "execution_count": 84,
      "outputs": []
    },
    {
      "cell_type": "code",
      "metadata": {
        "colab": {
          "base_uri": "https://localhost:8080/",
          "height": 850
        },
        "id": "6C9WTHUYUDbI",
        "outputId": "9d528798-eff1-4cef-fbac-6317579b89a4"
      },
      "source": [
        "dataset_temp"
      ],
      "execution_count": 85,
      "outputs": [
        {
          "output_type": "execute_result",
          "data": {
            "text/html": [
              "<div>\n",
              "<style scoped>\n",
              "    .dataframe tbody tr th:only-of-type {\n",
              "        vertical-align: middle;\n",
              "    }\n",
              "\n",
              "    .dataframe tbody tr th {\n",
              "        vertical-align: top;\n",
              "    }\n",
              "\n",
              "    .dataframe thead th {\n",
              "        text-align: right;\n",
              "    }\n",
              "</style>\n",
              "<table border=\"1\" class=\"dataframe\">\n",
              "  <thead>\n",
              "    <tr style=\"text-align: right;\">\n",
              "      <th></th>\n",
              "      <th>Fonte</th>\n",
              "      <th>Título</th>\n",
              "      <th>Descrição</th>\n",
              "      <th>Autor</th>\n",
              "      <th>Data/Hora de Publicação</th>\n",
              "      <th>Data/Hora de Coleta</th>\n",
              "      <th>URL</th>\n",
              "    </tr>\n",
              "  </thead>\n",
              "  <tbody>\n",
              "    <tr>\n",
              "      <th>0</th>\n",
              "      <td>Yahoo Finanças</td>\n",
              "      <td>2 - Supermercado responde por 80% dos mais ven...</td>\n",
              "      <td>SÃO PAULO, SP (FOLHAPRESS) - Dos dez produtos ...</td>\n",
              "      <td>PAULA SOPRANA</td>\n",
              "      <td>2021-11-28 12:46:00</td>\n",
              "      <td>2021-11-28 14:52:45</td>\n",
              "      <td>https://br.yahoo.com/noticias/2-supermercado-r...</td>\n",
              "    </tr>\n",
              "    <tr>\n",
              "      <th>1</th>\n",
              "      <td>Yahoo Finanças</td>\n",
              "      <td>Mercado de cannabis: conheça 5 empresas que mo...</td>\n",
              "      <td>Com o avanço da regulamentação da maconha, sej...</td>\n",
              "      <td>Redação Finanças</td>\n",
              "      <td>2021-11-28 05:00:21</td>\n",
              "      <td>2021-11-28 14:53:01</td>\n",
              "      <td>https://br.yahoo.com/noticias/investidor-da-bo...</td>\n",
              "    </tr>\n",
              "    <tr>\n",
              "      <th>2</th>\n",
              "      <td>Yahoo Finanças</td>\n",
              "      <td>Entenda o que é greenwashing, o blá-blá-blá ve...</td>\n",
              "      <td>BELO HORIZONTE, MG (FOLHAPRESS) - Uma empresa ...</td>\n",
              "      <td>THIAGO BETHÔNICO</td>\n",
              "      <td>2021-11-27 13:47:00</td>\n",
              "      <td>2021-11-28 14:53:17</td>\n",
              "      <td>https://br.yahoo.com/noticias/queda-mercado-e-...</td>\n",
              "    </tr>\n",
              "    <tr>\n",
              "      <th>3</th>\n",
              "      <td>Yahoo Finanças</td>\n",
              "      <td>Investidor da Bolsa ainda mira curto prazo e i...</td>\n",
              "      <td>BELO HORIZONTE, MG (FOLHAPRESS) - A ideia por ...</td>\n",
              "      <td>THIAGO BETHÔNICO</td>\n",
              "      <td>2021-11-27 13:07:00</td>\n",
              "      <td>2021-11-28 14:53:33</td>\n",
              "      <td>https://br.yahoo.com/noticias/entenda-o-que-%C...</td>\n",
              "    </tr>\n",
              "    <tr>\n",
              "      <th>4</th>\n",
              "      <td>Yahoo Finanças</td>\n",
              "      <td>Queda do mercado e novidades da Cardano são de...</td>\n",
              "      <td>BeInCrypto –O Bitcoin (BTC) teve mais uma sema...</td>\n",
              "      <td>Anderson Mendes</td>\n",
              "      <td>2021-11-27 10:23:16</td>\n",
              "      <td>2021-11-28 14:53:49</td>\n",
              "      <td>https://br.yahoo.com/noticias/entenda-o-que-%C...</td>\n",
              "    </tr>\n",
              "    <tr>\n",
              "      <th>5</th>\n",
              "      <td>Yahoo Finanças</td>\n",
              "      <td>Presidente do México escolhe subsecretária de ...</td>\n",
              "      <td>CIDADE DO MÉXICO (Reuters) - O presidente do M...</td>\n",
              "      <td></td>\n",
              "      <td>2021-11-24 11:32:53</td>\n",
              "      <td>2021-11-28 14:54:05</td>\n",
              "      <td>https://br.yahoo.com/finance/news/infla%C3%A7%...</td>\n",
              "    </tr>\n",
              "    <tr>\n",
              "      <th>6</th>\n",
              "      <td>Yahoo Finanças</td>\n",
              "      <td>Produtores de soja tacham de 'protecionista' p...</td>\n",
              "      <td>A proposta da União Europeia (UE) de proibir a...</td>\n",
              "      <td></td>\n",
              "      <td>2021-11-23 17:28:25</td>\n",
              "      <td>2021-11-28 14:54:21</td>\n",
              "      <td>https://br.yahoo.com/finance/news/infla%C3%A7%...</td>\n",
              "    </tr>\n",
              "    <tr>\n",
              "      <th>7</th>\n",
              "      <td>Yahoo Finanças</td>\n",
              "      <td>TV Brasil faz correção de questões do segundo ...</td>\n",
              "      <td>Os veículos da Empresa Brasil de Comunicação (...</td>\n",
              "      <td>Agência Brasil</td>\n",
              "      <td>2021-11-28 07:39:00</td>\n",
              "      <td>2021-11-28 14:54:37</td>\n",
              "      <td>https://br.yahoo.com/tv-brasil-faz-corre%C3%A7...</td>\n",
              "    </tr>\n",
              "    <tr>\n",
              "      <th>8</th>\n",
              "      <td>Yahoo Finanças</td>\n",
              "      <td>Eleição quebra uma barreira, diz 1ª mulher que...</td>\n",
              "      <td>MOGI DAS CRUZES, SP, E SÃO PAULO, SP (FOLHAPRE...</td>\n",
              "      <td>GÉSSICA BRANDINO E RENATA GALF</td>\n",
              "      <td>2021-11-27 07:30:00</td>\n",
              "      <td>2021-11-28 14:54:53</td>\n",
              "      <td>https://br.yahoo.com/elei%C3%A7%C3%A3o-quebra-...</td>\n",
              "    </tr>\n",
              "    <tr>\n",
              "      <th>9</th>\n",
              "      <td>Yahoo Finanças</td>\n",
              "      <td>México exigirá visto de brasileiros a partir d...</td>\n",
              "      <td>CIDADE DO MÉXICO (Reuters) - O México anunciou...</td>\n",
              "      <td></td>\n",
              "      <td>2021-11-26 20:34:04</td>\n",
              "      <td>2021-11-28 14:55:09</td>\n",
              "      <td>https://br.yahoo.com/patricia-vanzolini-%C3%A9...</td>\n",
              "    </tr>\n",
              "    <tr>\n",
              "      <th>10</th>\n",
              "      <td>Yahoo Finanças</td>\n",
              "      <td>Brasil proibirá voos de 6 países da África por...</td>\n",
              "      <td>Por Maria Carolina MarcelloBRASÍLIA (Reuters) ...</td>\n",
              "      <td>Maria Carolina Marcello</td>\n",
              "      <td>2021-11-26 20:31:20</td>\n",
              "      <td>2021-11-28 14:55:25</td>\n",
              "      <td>https://br.yahoo.com/m%C3%A9xico-exigir%C3%A1-...</td>\n",
              "    </tr>\n",
              "    <tr>\n",
              "      <th>11</th>\n",
              "      <td>Yahoo Finanças</td>\n",
              "      <td>Patricia Vanzolini é eleita, e OAB-SP terá uma...</td>\n",
              "      <td>SÃO PAULO, SP, E MOGI DAS CRUZES, SP (FOLHAPRE...</td>\n",
              "      <td>RENATA GALF E GÉSSICA BRANDINO</td>\n",
              "      <td>2021-11-26 18:55:00</td>\n",
              "      <td>2021-11-28 14:55:41</td>\n",
              "      <td>https://br.yahoo.com/m%C3%A9xico-exigir%C3%A1-...</td>\n",
              "    </tr>\n",
              "    <tr>\n",
              "      <th>12</th>\n",
              "      <td>Yahoo Finanças</td>\n",
              "      <td>Nova variante da Covid derruba bolsas, petróle...</td>\n",
              "      <td>SÃO PAULO, SP (FOLHAPRESS) - O temor de que um...</td>\n",
              "      <td>CLAYTON CASTELANI</td>\n",
              "      <td>2021-11-26 21:48:00</td>\n",
              "      <td>2021-11-28 14:58:12</td>\n",
              "      <td>https://br.yahoo.com/finance/news/ibovespa-tem...</td>\n",
              "    </tr>\n",
              "    <tr>\n",
              "      <th>13</th>\n",
              "      <td>Yahoo Finanças</td>\n",
              "      <td>Bolsas derretem</td>\n",
              "      <td>A sexta-feira foi marcada pela forte aversão a...</td>\n",
              "      <td></td>\n",
              "      <td>2021-11-26 19:30:53</td>\n",
              "      <td>2021-11-28 14:58:44</td>\n",
              "      <td>https://br.yahoo.com/noticias/lei-que-garante-...</td>\n",
              "    </tr>\n",
              "    <tr>\n",
              "      <th>14</th>\n",
              "      <td>Yahoo Finanças</td>\n",
              "      <td>Ibovespa tem maior queda em quase 3 meses por ...</td>\n",
              "      <td>Por Andre RomaniSÃO PAULO (Reuters) - O Iboves...</td>\n",
              "      <td>Andre Romani</td>\n",
              "      <td>2021-11-26 19:00:27</td>\n",
              "      <td>2021-11-28 14:59:00</td>\n",
              "      <td>https://br.yahoo.com/financas/noticias/n%C3%BA...</td>\n",
              "    </tr>\n",
              "  </tbody>\n",
              "</table>\n",
              "</div>"
            ],
            "text/plain": [
              "             Fonte  ...                                                URL\n",
              "0   Yahoo Finanças  ...  https://br.yahoo.com/noticias/2-supermercado-r...\n",
              "1   Yahoo Finanças  ...  https://br.yahoo.com/noticias/investidor-da-bo...\n",
              "2   Yahoo Finanças  ...  https://br.yahoo.com/noticias/queda-mercado-e-...\n",
              "3   Yahoo Finanças  ...  https://br.yahoo.com/noticias/entenda-o-que-%C...\n",
              "4   Yahoo Finanças  ...  https://br.yahoo.com/noticias/entenda-o-que-%C...\n",
              "5   Yahoo Finanças  ...  https://br.yahoo.com/finance/news/infla%C3%A7%...\n",
              "6   Yahoo Finanças  ...  https://br.yahoo.com/finance/news/infla%C3%A7%...\n",
              "7   Yahoo Finanças  ...  https://br.yahoo.com/tv-brasil-faz-corre%C3%A7...\n",
              "8   Yahoo Finanças  ...  https://br.yahoo.com/elei%C3%A7%C3%A3o-quebra-...\n",
              "9   Yahoo Finanças  ...  https://br.yahoo.com/patricia-vanzolini-%C3%A9...\n",
              "10  Yahoo Finanças  ...  https://br.yahoo.com/m%C3%A9xico-exigir%C3%A1-...\n",
              "11  Yahoo Finanças  ...  https://br.yahoo.com/m%C3%A9xico-exigir%C3%A1-...\n",
              "12  Yahoo Finanças  ...  https://br.yahoo.com/finance/news/ibovespa-tem...\n",
              "13  Yahoo Finanças  ...  https://br.yahoo.com/noticias/lei-que-garante-...\n",
              "14  Yahoo Finanças  ...  https://br.yahoo.com/financas/noticias/n%C3%BA...\n",
              "\n",
              "[15 rows x 7 columns]"
            ]
          },
          "metadata": {},
          "execution_count": 85
        }
      ]
    },
    {
      "cell_type": "code",
      "metadata": {
        "id": "uLRBt3XLtxm-"
      },
      "source": [
        "yahoo = pd.concat([dataset_temp,yahoo],ignore_index=True)"
      ],
      "execution_count": 90,
      "outputs": []
    },
    {
      "cell_type": "code",
      "metadata": {
        "id": "wazXl7OhUIwP"
      },
      "source": [
        "yahoo.to_csv('/content/gdrive/MyDrive/news_yahoo.csv')"
      ],
      "execution_count": 92,
      "outputs": []
    },
    {
      "cell_type": "code",
      "metadata": {
        "id": "cCN98JB5UMHl"
      },
      "source": [
        "page = req_infomoney('https://www.infomoney.com.br/mercados/')"
      ],
      "execution_count": 53,
      "outputs": []
    },
    {
      "cell_type": "code",
      "metadata": {
        "id": "ajTFjA77UPZN"
      },
      "source": [
        "links = page.find_all(class_=\"hl-title\")"
      ],
      "execution_count": 34,
      "outputs": []
    },
    {
      "cell_type": "code",
      "metadata": {
        "id": "r-GbKci5URlQ"
      },
      "source": [
        "lista_url = []\n",
        "for j in links:\n",
        "  aux = j.find('a')\n",
        "  if(aux):\n",
        "    if \"stock-pickers\" not in aux['href']:\n",
        "      lista_url.append(aux['href'])\n",
        "lista_url = set(lista_url)"
      ],
      "execution_count": 37,
      "outputs": []
    },
    {
      "cell_type": "code",
      "metadata": {
        "id": "V7UkIMUiUZ1I"
      },
      "source": [
        "noticias = []\n",
        "subtitle = \"\"\n",
        "for k in lista_url:\n",
        "  if k not in comp_infomoney:\n",
        "    response = requests.get(k)\n",
        "    temp = BeautifulSoup(response.content, 'html.parser')\n",
        "    title = temp.find('h1', attrs={'class': 'page-title-1'})\n",
        "    if title: # se não houver título, a página é do tipo cotações e possui apenas as informações sobre a empresa\n",
        "      title = title.text\n",
        "      subtitle = trata_string(temp.find('p', attrs={'class': 'article-lead'}).text)\n",
        "      author = temp.find('span', attrs={'class':'author-name'})\n",
        "      if author:\n",
        "        author = trata_string(author.find('a').text) # se não houver autor, a página é do tipo guias\n",
        "        collect_date = convert_timezone(datetime.now())\n",
        "        publication_date = iso8601.parse_date(temp.find('time', attrs={'class':'entry-date'})['datetime']).strftime('%Y-%m-%d %H:%M:%S')\n",
        "        description = temp.find('div', attrs={'class':'article-content'})\n",
        "        try:\n",
        "          description.figure.decompose()\n",
        "          description = description.text\n",
        "        except:\n",
        "          description = description.text\n",
        "        description = trata_string(description)\n",
        "        noticias.append(['Infomoney',title, subtitle, description, author, publication_date, collect_date, k])"
      ],
      "execution_count": 94,
      "outputs": []
    },
    {
      "cell_type": "code",
      "metadata": {
        "id": "j6wxon6ZUb_w"
      },
      "source": [
        "dataset_temp = pd.DataFrame(noticias,columns=['Fonte', 'Título', 'Subtítulo','Descrição', 'Autor', 'Data/Hora de Publicação', 'Data/Hora de Coleta', 'URL'])"
      ],
      "execution_count": 44,
      "outputs": []
    },
    {
      "cell_type": "code",
      "metadata": {
        "id": "V93b35qCUdqP"
      },
      "source": [
        "dataset_temp.drop_duplicates(subset=['Descrição'], inplace = True)"
      ],
      "execution_count": 46,
      "outputs": []
    },
    {
      "cell_type": "code",
      "metadata": {
        "id": "-AVO4zenUfke"
      },
      "source": [
        "dataset_temp.reset_index(drop = True, inplace = True)"
      ],
      "execution_count": 47,
      "outputs": []
    },
    {
      "cell_type": "code",
      "metadata": {
        "colab": {
          "base_uri": "https://localhost:8080/",
          "height": 788
        },
        "id": "yUtPZLdpUhSz",
        "outputId": "9dc5d9cb-0fed-4c23-9481-5b15e8d30a54"
      },
      "source": [
        "dataset_temp"
      ],
      "execution_count": 48,
      "outputs": [
        {
          "output_type": "execute_result",
          "data": {
            "text/html": [
              "<div>\n",
              "<style scoped>\n",
              "    .dataframe tbody tr th:only-of-type {\n",
              "        vertical-align: middle;\n",
              "    }\n",
              "\n",
              "    .dataframe tbody tr th {\n",
              "        vertical-align: top;\n",
              "    }\n",
              "\n",
              "    .dataframe thead th {\n",
              "        text-align: right;\n",
              "    }\n",
              "</style>\n",
              "<table border=\"1\" class=\"dataframe\">\n",
              "  <thead>\n",
              "    <tr style=\"text-align: right;\">\n",
              "      <th></th>\n",
              "      <th>Fonte</th>\n",
              "      <th>Título</th>\n",
              "      <th>Subtítulo</th>\n",
              "      <th>Descrição</th>\n",
              "      <th>Autor</th>\n",
              "      <th>Data/Hora de Publicação</th>\n",
              "      <th>Data/Hora de Coleta</th>\n",
              "      <th>URL</th>\n",
              "    </tr>\n",
              "  </thead>\n",
              "  <tbody>\n",
              "    <tr>\n",
              "      <th>0</th>\n",
              "      <td>Infomoney</td>\n",
              "      <td>Vera Brandimarte é nomeada presidente do Conse...</td>\n",
              "      <td>Jornalista assume a função com o objetivo de a...</td>\n",
              "      <td>SÃO PAULO – A XP anuncia hoje a contratação d...</td>\n",
              "      <td>Equipe InfoMoney</td>\n",
              "      <td>2021-11-10 16:33:09</td>\n",
              "      <td>2021-11-28 13:57:19</td>\n",
              "      <td>https://www.infomoney.com.br/mercados/vera-bra...</td>\n",
              "    </tr>\n",
              "    <tr>\n",
              "      <th>1</th>\n",
              "      <td>Infomoney</td>\n",
              "      <td>China pede plano para que Didi, dona da 99, se...</td>\n",
              "      <td>Órgão fiscalizador de tecnologia da China quer...</td>\n",
              "      <td>Reguladores chineses pediram aos principais e...</td>\n",
              "      <td>Bloomberg</td>\n",
              "      <td>2021-11-26 13:51:25</td>\n",
              "      <td>2021-11-28 13:57:19</td>\n",
              "      <td>https://www.infomoney.com.br/mercados/china-pe...</td>\n",
              "    </tr>\n",
              "    <tr>\n",
              "      <th>2</th>\n",
              "      <td>Infomoney</td>\n",
              "      <td>Banco Pine (PINE4) reverte prejuízo e registra...</td>\n",
              "      <td>A receita de prestação de serviços e tarifas s...</td>\n",
              "      <td>O Banco Pine (PINE4) reportou lucro líquido d...</td>\n",
              "      <td>Equipe InfoMoney</td>\n",
              "      <td>2021-11-11 06:47:19</td>\n",
              "      <td>2021-11-28 13:57:19</td>\n",
              "      <td>https://www.infomoney.com.br/mercados/banco-pi...</td>\n",
              "    </tr>\n",
              "    <tr>\n",
              "      <th>3</th>\n",
              "      <td>Infomoney</td>\n",
              "      <td>Goldman prevê que ciclo de aperto do Fed será ...</td>\n",
              "      <td>Segundo economistas, banco central dos EUA dev...</td>\n",
              "      <td>(Bloomberg) – Economistas do Goldman Sachs ac...</td>\n",
              "      <td>Bloomberg</td>\n",
              "      <td>2021-11-25 11:36:29</td>\n",
              "      <td>2021-11-28 13:57:19</td>\n",
              "      <td>https://www.infomoney.com.br/mercados/goldman-...</td>\n",
              "    </tr>\n",
              "    <tr>\n",
              "      <th>4</th>\n",
              "      <td>Infomoney</td>\n",
              "      <td>Bolsonaro diz que está buscando rever política...</td>\n",
              "      <td>Com a alta dos combustíveis comprometendo sua ...</td>\n",
              "      <td>Em mais um ataque à Petrobras (PETR3; PETR4),...</td>\n",
              "      <td>Estadão Conteúdo</td>\n",
              "      <td>2021-11-24 07:49:00</td>\n",
              "      <td>2021-11-28 13:57:20</td>\n",
              "      <td>https://www.infomoney.com.br/politica/bolsonar...</td>\n",
              "    </tr>\n",
              "    <tr>\n",
              "      <th>...</th>\n",
              "      <td>...</td>\n",
              "      <td>...</td>\n",
              "      <td>...</td>\n",
              "      <td>...</td>\n",
              "      <td>...</td>\n",
              "      <td>...</td>\n",
              "      <td>...</td>\n",
              "      <td>...</td>\n",
              "    </tr>\n",
              "    <tr>\n",
              "      <th>362</th>\n",
              "      <td>Infomoney</td>\n",
              "      <td>Wiz (WIZS3) registra queda de 72,7% no lucro n...</td>\n",
              "      <td>O resultado reflete efeitos do término do perí...</td>\n",
              "      <td>SÃO PAULO – A Wiz (WIZS3) reportou lucro líqu...</td>\n",
              "      <td>Equipe InfoMoney</td>\n",
              "      <td>2021-11-12 11:15:42</td>\n",
              "      <td>2021-11-28 13:59:37</td>\n",
              "      <td>https://www.infomoney.com.br/mercados/wiz-wizs...</td>\n",
              "    </tr>\n",
              "    <tr>\n",
              "      <th>363</th>\n",
              "      <td>Infomoney</td>\n",
              "      <td>Ação da Nvidia salta 8,25% na Nasdaq com resul...</td>\n",
              "      <td>As ações chegaram a subir 12% na sessão, levan...</td>\n",
              "      <td>SÃO PAULO – As ações da fabricante de chips N...</td>\n",
              "      <td>Equipe InfoMoney</td>\n",
              "      <td>2021-11-18 18:55:21</td>\n",
              "      <td>2021-11-28 13:59:37</td>\n",
              "      <td>https://www.infomoney.com.br/mercados/acao-da-...</td>\n",
              "    </tr>\n",
              "    <tr>\n",
              "      <th>364</th>\n",
              "      <td>Infomoney</td>\n",
              "      <td>Bradesco BBI coloca Petrobras (PETR4) como açã...</td>\n",
              "      <td>Analistas trocaram preferências de PetroRio, P...</td>\n",
              "      <td>SÃO PAULO – O Bradesco BBI reorganizou as sua...</td>\n",
              "      <td>Equipe InfoMoney</td>\n",
              "      <td>2021-11-19 10:55:10</td>\n",
              "      <td>2021-11-28 13:59:37</td>\n",
              "      <td>https://www.infomoney.com.br/mercados/bradesco...</td>\n",
              "    </tr>\n",
              "    <tr>\n",
              "      <th>365</th>\n",
              "      <td>Infomoney</td>\n",
              "      <td>IRB (IRBR3) tem queda de 27,8% no prejuízo do ...</td>\n",
              "      <td>Resultado líquido contábil foi negativamente i...</td>\n",
              "      <td>SÃO PAULO – O IRB Brasil (IRBR3) registrou qu...</td>\n",
              "      <td>Equipe InfoMoney</td>\n",
              "      <td>2021-11-11 20:48:36</td>\n",
              "      <td>2021-11-28 13:59:38</td>\n",
              "      <td>https://www.infomoney.com.br/mercados/irb-irbr...</td>\n",
              "    </tr>\n",
              "    <tr>\n",
              "      <th>366</th>\n",
              "      <td>Infomoney</td>\n",
              "      <td>Pedidos de auxílio-desemprego recuam para 268 ...</td>\n",
              "      <td>O resultado ficou acima da expectativa dos ana...</td>\n",
              "      <td>O número de pedidos de auxílio-desemprego nos...</td>\n",
              "      <td>Estadão Conteúdo</td>\n",
              "      <td>2021-11-18 11:43:00</td>\n",
              "      <td>2021-11-28 13:59:38</td>\n",
              "      <td>https://www.infomoney.com.br/mercados/pedidos-...</td>\n",
              "    </tr>\n",
              "  </tbody>\n",
              "</table>\n",
              "<p>367 rows × 8 columns</p>\n",
              "</div>"
            ],
            "text/plain": [
              "         Fonte  ...                                                URL\n",
              "0    Infomoney  ...  https://www.infomoney.com.br/mercados/vera-bra...\n",
              "1    Infomoney  ...  https://www.infomoney.com.br/mercados/china-pe...\n",
              "2    Infomoney  ...  https://www.infomoney.com.br/mercados/banco-pi...\n",
              "3    Infomoney  ...  https://www.infomoney.com.br/mercados/goldman-...\n",
              "4    Infomoney  ...  https://www.infomoney.com.br/politica/bolsonar...\n",
              "..         ...  ...                                                ...\n",
              "362  Infomoney  ...  https://www.infomoney.com.br/mercados/wiz-wizs...\n",
              "363  Infomoney  ...  https://www.infomoney.com.br/mercados/acao-da-...\n",
              "364  Infomoney  ...  https://www.infomoney.com.br/mercados/bradesco...\n",
              "365  Infomoney  ...  https://www.infomoney.com.br/mercados/irb-irbr...\n",
              "366  Infomoney  ...  https://www.infomoney.com.br/mercados/pedidos-...\n",
              "\n",
              "[367 rows x 8 columns]"
            ]
          },
          "metadata": {},
          "execution_count": 48
        }
      ]
    },
    {
      "cell_type": "code",
      "metadata": {
        "id": "dEBRv3mhUjEH"
      },
      "source": [
        "infomoney = pd.concat([dataset_temp, infomoney])"
      ],
      "execution_count": null,
      "outputs": []
    },
    {
      "cell_type": "code",
      "metadata": {
        "id": "2xhRV82xUk04"
      },
      "source": [
        "infomoney"
      ],
      "execution_count": null,
      "outputs": []
    },
    {
      "cell_type": "code",
      "metadata": {
        "id": "0dRhXYzpUmoG"
      },
      "source": [
        "dataset_temp.to_csv('/content/gdrive/MyDrive/news_infomoney.csv')"
      ],
      "execution_count": 50,
      "outputs": []
    }
  ]
}